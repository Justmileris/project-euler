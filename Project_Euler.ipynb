{
  "nbformat": 4,
  "nbformat_minor": 0,
  "metadata": {
    "colab": {
      "name": "Project Euler.ipynb",
      "provenance": [],
      "collapsed_sections": [],
      "toc_visible": true,
      "include_colab_link": true
    },
    "kernelspec": {
      "name": "python3",
      "display_name": "Python 3"
    }
  },
  "cells": [
    {
      "cell_type": "markdown",
      "metadata": {
        "id": "view-in-github",
        "colab_type": "text"
      },
      "source": [
        "<a href=\"https://colab.research.google.com/github/Justmileris/project-euler/blob/master/Project_Euler.ipynb\" target=\"_parent\"><img src=\"https://colab.research.google.com/assets/colab-badge.svg\" alt=\"Open In Colab\"/></a>"
      ]
    },
    {
      "cell_type": "markdown",
      "metadata": {
        "id": "pgexJcc2SIP1",
        "colab_type": "text"
      },
      "source": [
        "#1 # Multiples of 3 and 5"
      ]
    },
    {
      "cell_type": "code",
      "metadata": {
        "id": "DXh1XE9LSMhw",
        "colab_type": "code",
        "outputId": "b7d00c4a-15fe-49cb-8381-438941c989b5",
        "colab": {
          "base_uri": "https://localhost:8080/",
          "height": 34
        }
      },
      "source": [
        "total = 0\n",
        "\n",
        "for i in range(1, 1000):\n",
        "  if(i%3==0 or i%5==0):\n",
        "    total += i\n",
        "    \n",
        "print(total)"
      ],
      "execution_count": 0,
      "outputs": [
        {
          "output_type": "stream",
          "text": [
            "233168\n"
          ],
          "name": "stdout"
        }
      ]
    },
    {
      "cell_type": "markdown",
      "metadata": {
        "id": "EMTEYLZ3T1MR",
        "colab_type": "text"
      },
      "source": [
        "#2 # Even Fibonacci numbers"
      ]
    },
    {
      "cell_type": "code",
      "metadata": {
        "id": "VQMvWdfPT5ml",
        "colab_type": "code",
        "outputId": "1db6f541-a06c-4094-e5ad-fe1051992c38",
        "colab": {
          "base_uri": "https://localhost:8080/",
          "height": 34
        }
      },
      "source": [
        "previousNumber = 1\n",
        "currentNumber = 2\n",
        "resultSum = 2\n",
        "\n",
        "while(currentNumber + previousNumber < 4000000):\n",
        "  currentNumber += previousNumber\n",
        "  previousNumber = currentNumber-previousNumber\n",
        "  \n",
        "  if(currentNumber%2==0):\n",
        "    resultSum += currentNumber\n",
        "  \n",
        "  # print(currentNumber)\n",
        "  \n",
        "print('resultSum:', resultSum)"
      ],
      "execution_count": 0,
      "outputs": [
        {
          "output_type": "stream",
          "text": [
            "resultSum: 4613732\n"
          ],
          "name": "stdout"
        }
      ]
    },
    {
      "cell_type": "markdown",
      "metadata": {
        "id": "Pwf6nsiBVzH2",
        "colab_type": "text"
      },
      "source": [
        "#3 # Largest prime factor"
      ]
    },
    {
      "cell_type": "code",
      "metadata": {
        "id": "Ot9vtgzBUFJ6",
        "colab_type": "code",
        "outputId": "8608f915-7917-4b50-8b39-cf52b2a77630",
        "colab": {
          "base_uri": "https://localhost:8080/",
          "height": 34
        }
      },
      "source": [
        "import math\n",
        "\n",
        "# givenNumber = 13195\n",
        "givenNumber = 600851475143\n",
        "primesArr = []\n",
        "\n",
        "  \n",
        "while(givenNumber%2==0):\n",
        "  primesArr.append(2)\n",
        "  givenNumber /= 2\n",
        "\n",
        "\n",
        "for i in range(3, int(math.sqrt(givenNumber))+1, 2):\n",
        "  while(givenNumber % i == 0):\n",
        "    primesArr.append(i)\n",
        "    givenNumber /= i\n",
        "      \n",
        "# Isn't conditional missing here?\n",
        "  \n",
        "print(primesArr)"
      ],
      "execution_count": 0,
      "outputs": [
        {
          "output_type": "stream",
          "text": [
            "[71, 839, 1471, 6857]\n"
          ],
          "name": "stdout"
        }
      ]
    },
    {
      "cell_type": "markdown",
      "metadata": {
        "id": "Fz8eY2vPfZbi",
        "colab_type": "text"
      },
      "source": [
        "#4 # Largest palindrome product"
      ]
    },
    {
      "cell_type": "code",
      "metadata": {
        "id": "e1VS9q3xfaSv",
        "colab_type": "code",
        "outputId": "f82de2fb-e319-4519-bb52-d233d059e28b",
        "colab": {
          "base_uri": "https://localhost:8080/",
          "height": 34
        }
      },
      "source": [
        "maxProduct = 0\n",
        "maxI = 0\n",
        "maxJ = 0\n",
        "\n",
        "for i in range(999, 1, -1):\n",
        "  for j in range(999, 1, -1):\n",
        "    result = i*j\n",
        "    digitsCount = len(str(result))\n",
        "    if(digitsCount % 2 == 0):\n",
        "      halfDigitsCount = int(digitsCount/2)\n",
        "      strResult = str(result)\n",
        "\n",
        "      if(strResult[:halfDigitsCount] == strResult[halfDigitsCount:][::-1]):\n",
        "        if(result > maxProduct):\n",
        "          maxProduct = result\n",
        "          maxI = i\n",
        "          maxJ = j\n",
        "\n",
        "print(maxI, maxJ, maxProduct)"
      ],
      "execution_count": 0,
      "outputs": [
        {
          "output_type": "stream",
          "text": [
            "993 913 906609\n"
          ],
          "name": "stdout"
        }
      ]
    },
    {
      "cell_type": "markdown",
      "metadata": {
        "id": "PcQ67e6OfadV",
        "colab_type": "text"
      },
      "source": [
        "# 5 # Smallest multiple"
      ]
    },
    {
      "cell_type": "code",
      "metadata": {
        "id": "SrqpRW3FfanL",
        "colab_type": "code",
        "outputId": "9ca0fed5-7d38-4a1b-de7a-2685e2562050",
        "colab": {
          "base_uri": "https://localhost:8080/",
          "height": 34
        }
      },
      "source": [
        "state = False\n",
        "result = 20\n",
        "\n",
        "while(not state):\n",
        "  for i in range(20, 1, -1):\n",
        "    if(result % i == 0):\n",
        "      if(i == 2):\n",
        "        state = True\n",
        "        break\n",
        "      else:\n",
        "        continue\n",
        "    else:\n",
        "      break\n",
        "  result += 20\n",
        "\n",
        "result -= 20\n",
        "\n",
        "print('result', result)"
      ],
      "execution_count": 0,
      "outputs": [
        {
          "output_type": "stream",
          "text": [
            "result 232792560\n"
          ],
          "name": "stdout"
        }
      ]
    },
    {
      "cell_type": "markdown",
      "metadata": {
        "id": "I-kCmH5KfayG",
        "colab_type": "text"
      },
      "source": [
        "# 6 # Sum square difference"
      ]
    },
    {
      "cell_type": "code",
      "metadata": {
        "id": "appqIjp5fa_9",
        "colab_type": "code",
        "outputId": "38980613-32a7-4d8c-cf6f-f9b5d710d7b1",
        "colab": {
          "base_uri": "https://localhost:8080/",
          "height": 68
        }
      },
      "source": [
        "from math import pow\n",
        "\n",
        "sumOfSquares = 0\n",
        "squareOfSum = 0\n",
        "\n",
        "for i in range(1, 101):\n",
        "  squareOfSum += i\n",
        "  sumOfSquares += int(pow(i, 2))\n",
        "  \n",
        "squareOfSum = int(pow(squareOfSum, 2))\n",
        "\n",
        "print('sumOfSquares', sumOfSquares)\n",
        "print('squareOfSum', squareOfSum)\n",
        "\n",
        "print('Result', squareOfSum - sumOfSquares)"
      ],
      "execution_count": 0,
      "outputs": [
        {
          "output_type": "stream",
          "text": [
            "sumOfSquares 338350\n",
            "squareOfSum 25502500\n",
            "Result 25164150\n"
          ],
          "name": "stdout"
        }
      ]
    },
    {
      "cell_type": "markdown",
      "metadata": {
        "id": "FnvJ72_JfbM8",
        "colab_type": "text"
      },
      "source": [
        "# 7 # 10001st prime"
      ]
    },
    {
      "cell_type": "code",
      "metadata": {
        "id": "U3vdTRjrrSiT",
        "colab_type": "code",
        "outputId": "18607306-2852-46dc-8664-5ddcf6abcfca",
        "colab": {
          "base_uri": "https://localhost:8080/",
          "height": 34
        }
      },
      "source": [
        "a = [1,2,2,2,3,3,3,3,3, 3 , 3]\n",
        "a.count(3)"
      ],
      "execution_count": 0,
      "outputs": [
        {
          "output_type": "execute_result",
          "data": {
            "text/plain": [
              "7"
            ]
          },
          "metadata": {
            "tags": []
          },
          "execution_count": 15
        }
      ]
    },
    {
      "cell_type": "code",
      "metadata": {
        "id": "YQAByAJKicKP",
        "colab_type": "code",
        "colab": {}
      },
      "source": [
        ""
      ],
      "execution_count": 0,
      "outputs": []
    },
    {
      "cell_type": "code",
      "metadata": {
        "id": "cfA3An8iJgC1",
        "colab_type": "code",
        "colab": {}
      },
      "source": [
        "def simple_gen():\n",
        "  for x in range(3):\n",
        "    yield x"
      ],
      "execution_count": 0,
      "outputs": []
    },
    {
      "cell_type": "code",
      "metadata": {
        "id": "EoxD1Lmuqnlw",
        "colab_type": "code",
        "outputId": "466c52e9-b88d-4fc9-cad7-28a59d0147c3",
        "colab": {
          "base_uri": "https://localhost:8080/",
          "height": 67
        }
      },
      "source": [
        " "
      ],
      "execution_count": 0,
      "outputs": [
        {
          "output_type": "stream",
          "text": [
            "0\n",
            "1\n",
            "2\n"
          ],
          "name": "stdout"
        }
      ]
    },
    {
      "cell_type": "code",
      "metadata": {
        "id": "Uj_euOyoqsaI",
        "colab_type": "code",
        "colab": {}
      },
      "source": [
        "g = simple_gen()"
      ],
      "execution_count": 0,
      "outputs": []
    },
    {
      "cell_type": "code",
      "metadata": {
        "id": "V2f10_3Tqvko",
        "colab_type": "code",
        "outputId": "18fe27aa-f5b0-4588-eb03-3f9426f97c71",
        "colab": {
          "base_uri": "https://localhost:8080/",
          "height": 34
        }
      },
      "source": [
        "next(g)"
      ],
      "execution_count": 0,
      "outputs": [
        {
          "output_type": "execute_result",
          "data": {
            "text/plain": [
              "0"
            ]
          },
          "metadata": {
            "tags": []
          },
          "execution_count": 12
        }
      ]
    },
    {
      "cell_type": "code",
      "metadata": {
        "id": "Aak7LbV9uwDL",
        "colab_type": "code",
        "outputId": "db085617-e05c-4187-900c-939db4557945",
        "colab": {
          "base_uri": "https://localhost:8080/",
          "height": 34
        }
      },
      "source": [
        "next(g)"
      ],
      "execution_count": 0,
      "outputs": [
        {
          "output_type": "execute_result",
          "data": {
            "text/plain": [
              "1"
            ]
          },
          "metadata": {
            "tags": []
          },
          "execution_count": 13
        }
      ]
    },
    {
      "cell_type": "code",
      "metadata": {
        "id": "Qi60c5FEBFkB",
        "colab_type": "code",
        "colab": {}
      },
      "source": [
        ""
      ],
      "execution_count": 0,
      "outputs": []
    },
    {
      "cell_type": "code",
      "metadata": {
        "id": "ISXkgD8yBkEW",
        "colab_type": "code",
        "colab": {}
      },
      "source": [
        ""
      ],
      "execution_count": 0,
      "outputs": []
    },
    {
      "cell_type": "code",
      "metadata": {
        "id": "hpHdYKP4Bj7E",
        "colab_type": "code",
        "outputId": "6cf0ca70-681b-4183-ab47-db325645dce5",
        "colab": {
          "base_uri": "https://localhost:8080/",
          "height": 101
        }
      },
      "source": [
        ""
      ],
      "execution_count": 0,
      "outputs": [
        {
          "output_type": "stream",
          "text": [
            "h\n",
            "e\n",
            "l\n",
            "l\n",
            "o\n"
          ],
          "name": "stdout"
        }
      ]
    },
    {
      "cell_type": "code",
      "metadata": {
        "id": "y-oOM6U1Bj5N",
        "colab_type": "code",
        "colab": {}
      },
      "source": [
        ""
      ],
      "execution_count": 0,
      "outputs": []
    },
    {
      "cell_type": "code",
      "metadata": {
        "id": "WXw2NvbYBj1C",
        "colab_type": "code",
        "outputId": "420c4c2d-a0d4-4fb5-9800-3454d9517535",
        "colab": {
          "base_uri": "https://localhost:8080/",
          "height": 34
        }
      },
      "source": [
        ""
      ],
      "execution_count": 0,
      "outputs": [
        {
          "output_type": "execute_result",
          "data": {
            "text/plain": [
              "'h'"
            ]
          },
          "metadata": {
            "tags": []
          },
          "execution_count": 18
        }
      ]
    },
    {
      "cell_type": "code",
      "metadata": {
        "id": "E-6sB48CBjsA",
        "colab_type": "code",
        "outputId": "f961025b-5a1f-4ae3-c9bf-e177128d694c",
        "colab": {
          "base_uri": "https://localhost:8080/",
          "height": 34
        }
      },
      "source": [
        ""
      ],
      "execution_count": 0,
      "outputs": [
        {
          "output_type": "execute_result",
          "data": {
            "text/plain": [
              "'e'"
            ]
          },
          "metadata": {
            "tags": []
          },
          "execution_count": 19
        }
      ]
    },
    {
      "cell_type": "code",
      "metadata": {
        "id": "Np6GvcA8Bx-W",
        "colab_type": "code",
        "colab": {}
      },
      "source": [
        ""
      ],
      "execution_count": 0,
      "outputs": []
    }
  ]
}