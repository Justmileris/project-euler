{
  "nbformat": 4,
  "nbformat_minor": 0,
  "metadata": {
    "colab": {
      "name": "Project Euler.ipynb",
      "provenance": [],
      "collapsed_sections": [],
      "toc_visible": true,
      "include_colab_link": true
    },
    "kernelspec": {
      "name": "python3",
      "display_name": "Python 3"
    }
  },
  "cells": [
    {
      "cell_type": "markdown",
      "metadata": {
        "id": "view-in-github",
        "colab_type": "text"
      },
      "source": [
        "<a href=\"https://colab.research.google.com/github/Justmileris/project-euler/blob/master/Project_Euler.ipynb\" target=\"_parent\"><img src=\"https://colab.research.google.com/assets/colab-badge.svg\" alt=\"Open In Colab\"/></a>"
      ]
    },
    {
      "cell_type": "markdown",
      "metadata": {
        "id": "pgexJcc2SIP1"
      },
      "source": [
        "# #1 Multiples of 3 and 5"
      ]
    },
    {
      "cell_type": "code",
      "metadata": {
        "id": "DXh1XE9LSMhw",
        "colab": {
          "base_uri": "https://localhost:8080/"
        },
        "outputId": "f96ce6b4-24d9-4a49-d59f-2d9fa5d8940f"
      },
      "source": [
        "total = 0\n",
        "\n",
        "for i in range(1, 1000):\n",
        "  if(i%3==0 or i%5==0):\n",
        "    total += i\n",
        "    \n",
        "print(total)"
      ],
      "execution_count": 4,
      "outputs": [
        {
          "output_type": "stream",
          "text": [
            "233168\n"
          ],
          "name": "stdout"
        }
      ]
    },
    {
      "cell_type": "markdown",
      "metadata": {
        "id": "EMTEYLZ3T1MR"
      },
      "source": [
        "# #2 Even Fibonacci numbers"
      ]
    },
    {
      "cell_type": "code",
      "metadata": {
        "id": "VQMvWdfPT5ml",
        "colab": {
          "base_uri": "https://localhost:8080/"
        },
        "outputId": "2ec67f2a-dafc-47da-8ffa-af4fe7463eb8"
      },
      "source": [
        "previousNumber = 1\n",
        "currentNumber = 2\n",
        "resultSum = 2\n",
        "\n",
        "while(currentNumber + previousNumber < 4000000):\n",
        "  currentNumber += previousNumber\n",
        "  previousNumber = currentNumber-previousNumber\n",
        "  \n",
        "  if(currentNumber%2==0):\n",
        "    resultSum += currentNumber\n",
        "  \n",
        "  # print(currentNumber)\n",
        "  \n",
        "print('resultSum:', resultSum)"
      ],
      "execution_count": 5,
      "outputs": [
        {
          "output_type": "stream",
          "text": [
            "resultSum: 4613732\n"
          ],
          "name": "stdout"
        }
      ]
    },
    {
      "cell_type": "markdown",
      "metadata": {
        "id": "Pwf6nsiBVzH2"
      },
      "source": [
        "# #3 Largest prime factor"
      ]
    },
    {
      "cell_type": "code",
      "metadata": {
        "id": "Ot9vtgzBUFJ6",
        "colab": {
          "base_uri": "https://localhost:8080/"
        },
        "outputId": "a423480a-acdd-4e2d-abee-151206abd68a"
      },
      "source": [
        "import math\n",
        "\n",
        "# givenNumber = 13195\n",
        "givenNumber = 600851475143\n",
        "primesArr = []\n",
        "\n",
        "while(givenNumber%2==0):\n",
        "  primesArr.append(2)\n",
        "  givenNumber /= 2\n",
        "\n",
        "\n",
        "for i in range(3, int(math.sqrt(givenNumber))+1, 2):\n",
        "  while(givenNumber % i == 0):\n",
        "    primesArr.append(i)\n",
        "    givenNumber /= i\n",
        "      \n",
        "# Isn't conditional missing here?\n",
        "  \n",
        "print(primesArr)"
      ],
      "execution_count": 7,
      "outputs": [
        {
          "output_type": "stream",
          "text": [
            "[71, 839, 1471, 6857]\n"
          ],
          "name": "stdout"
        }
      ]
    },
    {
      "cell_type": "markdown",
      "metadata": {
        "id": "Fz8eY2vPfZbi"
      },
      "source": [
        "# #4 Largest palindrome product"
      ]
    },
    {
      "cell_type": "code",
      "metadata": {
        "id": "e1VS9q3xfaSv",
        "colab": {
          "base_uri": "https://localhost:8080/"
        },
        "outputId": "9da1cfc5-23a6-4a3f-8b0b-cbc77114647d"
      },
      "source": [
        "maxProduct = 0\n",
        "maxI = 0\n",
        "maxJ = 0\n",
        "\n",
        "for i in range(999, 1, -1):\n",
        "  for j in range(999, 1, -1):\n",
        "    result = i*j\n",
        "    digitsCount = len(str(result))\n",
        "    if(digitsCount % 2 == 0):\n",
        "      halfDigitsCount = int(digitsCount/2)\n",
        "      strResult = str(result)\n",
        "\n",
        "      if(strResult[:halfDigitsCount] == strResult[halfDigitsCount:][::-1]):\n",
        "        if(result > maxProduct):\n",
        "          maxProduct = result\n",
        "          maxI = i\n",
        "          maxJ = j\n",
        "\n",
        "print(maxI, maxJ, maxProduct)"
      ],
      "execution_count": 8,
      "outputs": [
        {
          "output_type": "stream",
          "text": [
            "993 913 906609\n"
          ],
          "name": "stdout"
        }
      ]
    },
    {
      "cell_type": "markdown",
      "metadata": {
        "id": "PcQ67e6OfadV"
      },
      "source": [
        "# #5 Smallest multiple"
      ]
    },
    {
      "cell_type": "code",
      "metadata": {
        "id": "SrqpRW3FfanL",
        "colab": {
          "base_uri": "https://localhost:8080/"
        },
        "outputId": "23db8170-6614-4b3b-d58c-b9a9a7b4a2e7"
      },
      "source": [
        "state = False\n",
        "result = 20\n",
        "\n",
        "while(not state):\n",
        "  for i in range(20, 1, -1):\n",
        "    if(result % i == 0):\n",
        "      if(i == 2):\n",
        "        state = True\n",
        "        break\n",
        "      else:\n",
        "        continue\n",
        "    else:\n",
        "      break\n",
        "  result += 20\n",
        "\n",
        "result -= 20\n",
        "\n",
        "print('result', result)"
      ],
      "execution_count": 9,
      "outputs": [
        {
          "output_type": "stream",
          "text": [
            "result 232792560\n"
          ],
          "name": "stdout"
        }
      ]
    },
    {
      "cell_type": "markdown",
      "metadata": {
        "id": "I-kCmH5KfayG"
      },
      "source": [
        "# #6 Sum square difference"
      ]
    },
    {
      "cell_type": "code",
      "metadata": {
        "id": "appqIjp5fa_9",
        "colab": {
          "base_uri": "https://localhost:8080/"
        },
        "outputId": "8c98cea3-f4a9-4f05-bb5f-d157284b9cae"
      },
      "source": [
        "from math import pow\n",
        "\n",
        "sumOfSquares = 0\n",
        "squareOfSum = 0\n",
        "\n",
        "for i in range(1, 101):\n",
        "  squareOfSum += i\n",
        "  sumOfSquares += int(pow(i, 2))\n",
        "  \n",
        "squareOfSum = int(pow(squareOfSum, 2))\n",
        "\n",
        "print('sumOfSquares', sumOfSquares)\n",
        "print('squareOfSum', squareOfSum)\n",
        "\n",
        "print('Result', squareOfSum - sumOfSquares)"
      ],
      "execution_count": 10,
      "outputs": [
        {
          "output_type": "stream",
          "text": [
            "sumOfSquares 338350\n",
            "squareOfSum 25502500\n",
            "Result 25164150\n"
          ],
          "name": "stdout"
        }
      ]
    },
    {
      "cell_type": "markdown",
      "metadata": {
        "id": "FnvJ72_JfbM8"
      },
      "source": [
        "# #7 10001st prime"
      ]
    },
    {
      "cell_type": "code",
      "metadata": {
        "id": "U3vdTRjrrSiT",
        "colab": {
          "base_uri": "https://localhost:8080/"
        },
        "outputId": "14401080-f3b8-40ea-814e-b71656bf544b"
      },
      "source": [
        "'''\n",
        "By listing the first six prime numbers: 2, 3, 5, 7, 11, and 13, we can see that the 6th prime is 13.\n",
        "\n",
        "What is the 10 001st prime number?\n",
        "'''\n",
        "\n",
        "def is_prime(x):\n",
        "  for i in range(3, int(math.sqrt(x))+1, 2):\n",
        "    if(x % i == 0):\n",
        "      return False\n",
        "  return True\n",
        "\n",
        "def get_primes(n):\n",
        "  yield 2\n",
        "  count = 1\n",
        "  i = 3\n",
        "  while(count<n):\n",
        "    if(is_prime(i)):\n",
        "      yield(i)\n",
        "      count += 1\n",
        "    i += 2\n",
        "\n",
        "primes = [x for x in get_primes(10001)]\n",
        "print(primes[-1])"
      ],
      "execution_count": 70,
      "outputs": [
        {
          "output_type": "stream",
          "text": [
            "104743\n"
          ],
          "name": "stdout"
        }
      ]
    },
    {
      "cell_type": "markdown",
      "metadata": {
        "id": "xR-yJCKhjtlD"
      },
      "source": [
        "# #8 Largest product in a series"
      ]
    },
    {
      "cell_type": "code",
      "metadata": {
        "id": "FpFRexfxjwf5",
        "colab": {
          "base_uri": "https://localhost:8080/"
        },
        "outputId": "403e4ce6-228d-438a-b481-294493c6d578"
      },
      "source": [
        "'''\n",
        "The four adjacent digits in the 1000-digit number that have the greatest product are 9 × 9 × 8 × 9 = 5832.\n",
        "\n",
        "73167176531330624919225119674426574742355349194934\n",
        "96983520312774506326239578318016984801869478851843\n",
        "85861560789112949495459501737958331952853208805511\n",
        "12540698747158523863050715693290963295227443043557\n",
        "66896648950445244523161731856403098711121722383113\n",
        "62229893423380308135336276614282806444486645238749\n",
        "30358907296290491560440772390713810515859307960866\n",
        "70172427121883998797908792274921901699720888093776\n",
        "65727333001053367881220235421809751254540594752243\n",
        "52584907711670556013604839586446706324415722155397\n",
        "53697817977846174064955149290862569321978468622482\n",
        "83972241375657056057490261407972968652414535100474\n",
        "82166370484403199890008895243450658541227588666881\n",
        "16427171479924442928230863465674813919123162824586\n",
        "17866458359124566529476545682848912883142607690042\n",
        "24219022671055626321111109370544217506941658960408\n",
        "07198403850962455444362981230987879927244284909188\n",
        "84580156166097919133875499200524063689912560717606\n",
        "05886116467109405077541002256983155200055935729725\n",
        "71636269561882670428252483600823257530420752963450\n",
        "\n",
        "Find the thirteen adjacent digits in the 1000-digit number that have the greatest product. What is the value of this product?\n",
        "'''\n",
        "\n",
        "text = \"7316717653133062491922511967442657474235534919493496983520312774506326239578318016984801869478851843858615607891129494954595017379583319528532088055111254069874715852386305071569329096329522744304355766896648950445244523161731856403098711121722383113622298934233803081353362766142828064444866452387493035890729629049156044077239071381051585930796086670172427121883998797908792274921901699720888093776657273330010533678812202354218097512545405947522435258490771167055601360483958644670632441572215539753697817977846174064955149290862569321978468622482839722413756570560574902614079729686524145351004748216637048440319989000889524345065854122758866688116427171479924442928230863465674813919123162824586178664583591245665294765456828489128831426076900422421902267105562632111110937054421750694165896040807198403850962455444362981230987879927244284909188845801561660979191338754992005240636899125607176060588611646710940507754100225698315520005593572972571636269561882670428252483600823257530420752963450\"\n",
        "adjacent_digits_count = 13\n",
        "max_product = 0\n",
        "\n",
        "for i in range(0, len(text)-adjacent_digits_count+1):\n",
        "  temp_product = 1\n",
        "\n",
        "  for j in range(i, i + adjacent_digits_count):\n",
        "    temp_product *= int(text[j:j+1])\n",
        "\n",
        "  if temp_product > max_product:\n",
        "    max_product = temp_product\n",
        "\n",
        "print(max_product)"
      ],
      "execution_count": 165,
      "outputs": [
        {
          "output_type": "stream",
          "text": [
            "23514624000\n"
          ],
          "name": "stdout"
        }
      ]
    },
    {
      "cell_type": "code",
      "metadata": {
        "id": "T8uRWOu8kBNu"
      },
      "source": [
        ""
      ],
      "execution_count": 163,
      "outputs": []
    },
    {
      "cell_type": "markdown",
      "metadata": {
        "id": "FkrpxmFhJBw7"
      },
      "source": [
        "# #9 Special Pythagorean triplet"
      ]
    },
    {
      "cell_type": "code",
      "metadata": {
        "colab": {
          "base_uri": "https://localhost:8080/"
        },
        "id": "I9KRWEpGz5Wo",
        "outputId": "633363fc-e8c5-4ef2-937d-4c020500492d"
      },
      "source": [
        "'''\n",
        "A Pythagorean triplet is a set of three natural numbers, a < b < c, for which,\n",
        "\n",
        "a^2 + b^2 = c^2\n",
        "For example, 3^2 + 4^2 = 9 + 16 = 25 = 5^2.\n",
        "\n",
        "There exists exactly one Pythagorean triplet for which a + b + c = 1000.\n",
        "Find the product abc.\n",
        "'''\n",
        "\n",
        "for a in range(1,1000):\n",
        "  a_residue = 1000 - a\n",
        "  for b in range(1,a_residue):\n",
        "    c = a_residue - b\n",
        "    if (a**2 + b**2 == c**2):\n",
        "      print(a*b*c)"
      ],
      "execution_count": 175,
      "outputs": [
        {
          "output_type": "stream",
          "text": [
            "31875000\n",
            "31875000\n"
          ],
          "name": "stdout"
        }
      ]
    },
    {
      "cell_type": "markdown",
      "metadata": {
        "id": "KRv-pSnHWDA-"
      },
      "source": [
        "# #10 Summation of primes"
      ]
    },
    {
      "cell_type": "code",
      "metadata": {
        "colab": {
          "base_uri": "https://localhost:8080/"
        },
        "id": "aSNSfGDXz5Qs",
        "outputId": "38f5feb8-7b05-43ff-cbb5-f1c480f03ce8"
      },
      "source": [
        "'''\n",
        "The sum of the primes below 10 is 2 + 3 + 5 + 7 = 17.\n",
        "\n",
        "Find the sum of all the primes below two million.\n",
        "'''\n",
        "\n",
        "def is_prime(x):\n",
        "  for i in range(3, int(math.sqrt(x))+1, 2):\n",
        "    if(x % i == 0):\n",
        "      return False\n",
        "  return True\n",
        "\n",
        "def get_sum_of_primes_below_threshold(threshold):\n",
        "  yield 2\n",
        "  i = 3\n",
        "  while(i<threshold):\n",
        "    if(is_prime(i)):\n",
        "      yield(i)\n",
        "    i += 2\n",
        "\n",
        "primes = [x for x in get_sum_of_primes_below_threshold(2000000)]\n",
        "print(sum(primes))"
      ],
      "execution_count": 196,
      "outputs": [
        {
          "output_type": "stream",
          "text": [
            "142913828922\n"
          ],
          "name": "stdout"
        }
      ]
    },
    {
      "cell_type": "markdown",
      "metadata": {
        "id": "jz-ecMwCbRC_"
      },
      "source": [
        "# #11 Largest product in a grid"
      ]
    },
    {
      "cell_type": "code",
      "metadata": {
        "colab": {
          "base_uri": "https://localhost:8080/"
        },
        "id": "Ae7wS_xO8eNV",
        "outputId": "1287420f-8fd8-48e0-944c-b899d9b248b0"
      },
      "source": [
        "'''\n",
        "In the 20×20 grid below, four numbers along a diagonal line have been marked in red.\n",
        "\n",
        "08 02 22 97 38 15 00 40 00 75 04 05 07 78 52 12 50 77 91 08\n",
        "49 49 99 40 17 81 18 57 60 87 17 40 98 43 69 48 04 56 62 00\n",
        "81 49 31 73 55 79 14 29 93 71 40 67 53 88 30 03 49 13 36 65\n",
        "52 70 95 23 04 60 11 42 69 24 68 56 01 32 56 71 37 02 36 91\n",
        "22 31 16 71 51 67 63 89 41 92 36 54 22 40 40 28 66 33 13 80\n",
        "24 47 32 60 99 03 45 02 44 75 33 53 78 36 84 20 35 17 12 50\n",
        "32 98 81 28 64 23 67 10 26 38 40 67 59 54 70 66 18 38 64 70\n",
        "67 26 20 68 02 62 12 20 95 63 94 39 63 08 40 91 66 49 94 21\n",
        "24 55 58 05 66 73 99 26 97 17 78 78 96 83 14 88 34 89 63 72\n",
        "21 36 23 09 75 00 76 44 20 45 35 14 00 61 33 97 34 31 33 95\n",
        "78 17 53 28 22 75 31 67 15 94 03 80 04 62 16 14 09 53 56 92\n",
        "16 39 05 42 96 35 31 47 55 58 88 24 00 17 54 24 36 29 85 57\n",
        "86 56 00 48 35 71 89 07 05 44 44 37 44 60 21 58 51 54 17 58\n",
        "19 80 81 68 05 94 47 69 28 73 92 13 86 52 17 77 04 89 55 40\n",
        "04 52 08 83 97 35 99 16 07 97 57 32 16 26 26 79 33 27 98 66\n",
        "88 36 68 87 57 62 20 72 03 46 33 67 46 55 12 32 63 93 53 69\n",
        "04 42 16 73 38 25 39 11 24 94 72 18 08 46 29 32 40 62 76 36\n",
        "20 69 36 41 72 30 23 88 34 62 99 69 82 67 59 85 74 04 36 16\n",
        "20 73 35 29 78 31 90 01 74 31 49 71 48 86 81 16 23 57 05 54\n",
        "01 70 54 71 83 51 54 69 16 92 33 48 61 43 52 01 89 19 67 48\n",
        "\n",
        "The product of these numbers is 26 × 63 × 78 × 14 = 1788696.\n",
        "\n",
        "What is the greatest product of four adjacent numbers in the same direction (up, down, left, right, or diagonally) in the 20×20 grid?\n",
        "'''\n",
        "\n",
        "grid = [\n",
        "  [8, 2, 22, 97, 38, 15, 0, 40, 0, 75, 4, 5, 7, 78, 52, 12, 50, 77, 91, 8],\n",
        "  [49, 49, 99, 40, 17, 81, 18, 57, 60, 87, 17, 40, 98, 43, 69, 48, 4, 56, 62, 0],\n",
        "  [81, 49, 31, 73, 55, 79, 14, 29, 93, 71, 40, 67, 53, 88, 30, 3, 49, 13, 36, 65],\n",
        "  [52, 70, 95, 23, 4, 60, 11, 42, 69, 24, 68, 56, 1, 32, 56, 71, 37, 2, 36, 91],\n",
        "  [22, 31, 16, 71, 51, 67, 63, 89, 41, 92, 36, 54, 22, 40, 40, 28, 66, 33, 13, 80],\n",
        "  [24, 47, 32, 60, 99, 3, 45, 2, 44, 75, 33, 53, 78, 36, 84, 20, 35, 17, 12, 50],\n",
        "  [32, 98, 81, 28, 64, 23, 67, 10, 26, 38, 40, 67, 59, 54, 70, 66, 18, 38, 64, 70],\n",
        "  [67, 26, 20, 68, 2, 62, 12, 20, 95, 63, 94, 39, 63, 8, 40, 91, 66, 49, 94, 21],\n",
        "  [24, 55, 58, 5, 66, 73, 99, 26, 97, 17, 78, 78, 96, 83, 14, 88, 34, 89, 63, 72],\n",
        "  [21, 36, 23, 9, 75, 0, 76, 44, 20, 45, 35, 14, 0, 61, 33, 97, 34, 31, 33, 95],\n",
        "  [78, 17, 53, 28, 22, 75, 31, 67, 15, 94, 3, 80, 4, 62, 16, 14, 9, 53, 56, 92],\n",
        "  [16, 39, 5, 42, 96, 35, 31, 47, 55, 58, 88, 24, 0, 17, 54, 24, 36, 29, 85, 57],\n",
        "  [86, 56, 0, 48, 35, 71, 89, 7, 5, 44, 44, 37, 44, 60, 21, 58, 51, 54, 17, 58],\n",
        "  [19, 80, 81, 68, 5, 94, 47, 69, 28, 73, 92, 13, 86, 52, 17, 77, 4, 89, 55, 40],\n",
        "  [4, 52, 8, 83, 97, 35, 99, 16, 7, 97, 57, 32, 16, 26, 26, 79, 33, 27, 98, 66],\n",
        "  [88, 36, 68, 87, 57, 62, 20, 72, 3, 46, 33, 67, 46, 55, 12, 32, 63, 93, 53, 69],\n",
        "  [4, 42, 16, 73, 38, 25, 39, 11, 24, 94, 72, 18, 8, 46, 29, 32, 40, 62, 76, 36],\n",
        "  [20, 69, 36, 41, 72, 30, 23, 88, 34, 62, 99, 69, 82, 67, 59, 85, 74, 4, 36, 16],\n",
        "  [20, 73, 35, 29, 78, 31, 90, 1, 74, 31, 49, 71, 48, 86, 81, 16, 23, 57, 5, 54],\n",
        "  [1, 70, 54, 71, 83, 51, 54, 69, 16, 92, 33, 48, 61, 43, 52, 1, 89, 19, 67, 48]\n",
        "]\n",
        "\n",
        "adjacent_digits_count = 4\n",
        "max_prod = 0\n",
        "\n",
        "# THIS CHECKS ONLY DIAGONALLY !!!\n",
        "\n",
        "for index_row in range(len(grid) - adjacent_digits_count + 1):\n",
        "  for index_column in range(len(grid[0]) - adjacent_digits_count + 1):\n",
        "    value_1 = grid[index_row][index_column]\n",
        "    value_2 = grid[index_row+1][index_column+1]\n",
        "    value_3 = grid[index_row+2][index_column+2]\n",
        "    value_4 = grid[index_row+3][index_column+3]\n",
        "    temp_prod = value_1 * value_2 * value_3 * value_4\n",
        "    if (temp_prod > max_prod):\n",
        "      max_prod = temp_prod\n",
        "for index_row in range(len(grid) - adjacent_digits_count + 1):\n",
        "  temp = []\n",
        "  for index_column in range(adjacent_digits_count - 1, len(grid[0])):\n",
        "    temp.append(grid[index_row][index_column])\n",
        "    value_1 = grid[index_row][index_column]\n",
        "    value_2 = grid[index_row+1][index_column-1]\n",
        "    value_3 = grid[index_row+2][index_column-2]\n",
        "    value_4 = grid[index_row+3][index_column-3]\n",
        "    temp_prod = value_1 * value_2 * value_3 * value_4\n",
        "    if (temp_prod > max_prod):\n",
        "      max_prod = temp_prod\n",
        "\n",
        "print(max_prod)"
      ],
      "execution_count": 228,
      "outputs": [
        {
          "output_type": "stream",
          "text": [
            "70600674\n"
          ],
          "name": "stdout"
        }
      ]
    },
    {
      "cell_type": "markdown",
      "metadata": {
        "id": "nuffsunQi1_n"
      },
      "source": [
        "# #12 Highly divisible triangular number"
      ]
    },
    {
      "cell_type": "code",
      "metadata": {
        "id": "GRvOSFkl8eLJ"
      },
      "source": [
        "'''\n",
        "The sequence of triangle numbers is generated by adding the natural numbers. So the 7th triangle number would be 1 + 2 + 3 + 4 + 5 + 6 + 7 = 28. The first ten terms would be:\n",
        "\n",
        "1, 3, 6, 10, 15, 21, 28, 36, 45, 55, ...\n",
        "\n",
        "Let us list the factors of the first seven triangle numbers:\n",
        "\n",
        " 1: 1\n",
        " 3: 1,3\n",
        " 6: 1,2,3,6\n",
        "10: 1,2,5,10\n",
        "15: 1,3,5,15\n",
        "21: 1,3,7,21\n",
        "28: 1,2,4,7,14,28\n",
        "We can see that 28 is the first triangle number to have over five divisors.\n",
        "\n",
        "What is the value of the first triangle number to have over five hundred divisors?\n",
        "'''"
      ],
      "execution_count": 229,
      "outputs": []
    },
    {
      "cell_type": "code",
      "metadata": {
        "id": "N2meGHsBDVVf"
      },
      "source": [
        ""
      ],
      "execution_count": 201,
      "outputs": []
    },
    {
      "cell_type": "code",
      "metadata": {
        "id": "sjumrotSDVTF"
      },
      "source": [
        ""
      ],
      "execution_count": null,
      "outputs": []
    },
    {
      "cell_type": "code",
      "metadata": {
        "id": "llX4_iAoz5F2"
      },
      "source": [
        ""
      ],
      "execution_count": 165,
      "outputs": []
    },
    {
      "cell_type": "code",
      "metadata": {
        "id": "dut2tDx4D-Zw"
      },
      "source": [
        ""
      ],
      "execution_count": null,
      "outputs": []
    }
  ]
}