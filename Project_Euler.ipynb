{
  "nbformat": 4,
  "nbformat_minor": 0,
  "metadata": {
    "colab": {
      "name": "Project Euler.ipynb",
      "provenance": [],
      "collapsed_sections": [],
      "toc_visible": true,
      "include_colab_link": true
    },
    "kernelspec": {
      "name": "python3",
      "display_name": "Python 3"
    }
  },
  "cells": [
    {
      "cell_type": "markdown",
      "metadata": {
        "id": "view-in-github",
        "colab_type": "text"
      },
      "source": [
        "<a href=\"https://colab.research.google.com/github/Justmileris/project-euler/blob/master/Project_Euler.ipynb\" target=\"_parent\"><img src=\"https://colab.research.google.com/assets/colab-badge.svg\" alt=\"Open In Colab\"/></a>"
      ]
    },
    {
      "cell_type": "markdown",
      "metadata": {
        "id": "pgexJcc2SIP1"
      },
      "source": [
        "# #1 Multiples of 3 and 5"
      ]
    },
    {
      "cell_type": "code",
      "metadata": {
        "id": "DXh1XE9LSMhw",
        "colab": {
          "base_uri": "https://localhost:8080/"
        },
        "outputId": "f96ce6b4-24d9-4a49-d59f-2d9fa5d8940f"
      },
      "source": [
        "total = 0\n",
        "\n",
        "for i in range(1, 1000):\n",
        "  if(i%3==0 or i%5==0):\n",
        "    total += i\n",
        "    \n",
        "print(total)"
      ],
      "execution_count": null,
      "outputs": [
        {
          "output_type": "stream",
          "text": [
            "233168\n"
          ],
          "name": "stdout"
        }
      ]
    },
    {
      "cell_type": "markdown",
      "metadata": {
        "id": "EMTEYLZ3T1MR"
      },
      "source": [
        "# #2 Even Fibonacci numbers"
      ]
    },
    {
      "cell_type": "code",
      "metadata": {
        "id": "VQMvWdfPT5ml",
        "colab": {
          "base_uri": "https://localhost:8080/"
        },
        "outputId": "2ec67f2a-dafc-47da-8ffa-af4fe7463eb8"
      },
      "source": [
        "previousNumber = 1\n",
        "currentNumber = 2\n",
        "resultSum = 2\n",
        "\n",
        "while(currentNumber + previousNumber < 4000000):\n",
        "  currentNumber += previousNumber\n",
        "  previousNumber = currentNumber-previousNumber\n",
        "  \n",
        "  if(currentNumber%2==0):\n",
        "    resultSum += currentNumber\n",
        "  \n",
        "  # print(currentNumber)\n",
        "  \n",
        "print('resultSum:', resultSum)"
      ],
      "execution_count": null,
      "outputs": [
        {
          "output_type": "stream",
          "text": [
            "resultSum: 4613732\n"
          ],
          "name": "stdout"
        }
      ]
    },
    {
      "cell_type": "markdown",
      "metadata": {
        "id": "Pwf6nsiBVzH2"
      },
      "source": [
        "# #3 Largest prime factor"
      ]
    },
    {
      "cell_type": "code",
      "metadata": {
        "id": "Ot9vtgzBUFJ6",
        "colab": {
          "base_uri": "https://localhost:8080/"
        },
        "outputId": "a423480a-acdd-4e2d-abee-151206abd68a"
      },
      "source": [
        "import math\n",
        "\n",
        "# givenNumber = 13195\n",
        "givenNumber = 600851475143\n",
        "primesArr = []\n",
        "\n",
        "while(givenNumber%2==0):\n",
        "  primesArr.append(2)\n",
        "  givenNumber /= 2\n",
        "\n",
        "\n",
        "for i in range(3, int(math.sqrt(givenNumber))+1, 2):\n",
        "  while(givenNumber % i == 0):\n",
        "    primesArr.append(i)\n",
        "    givenNumber /= i\n",
        "      \n",
        "# Isn't conditional missing here?\n",
        "  \n",
        "print(primesArr)"
      ],
      "execution_count": null,
      "outputs": [
        {
          "output_type": "stream",
          "text": [
            "[71, 839, 1471, 6857]\n"
          ],
          "name": "stdout"
        }
      ]
    },
    {
      "cell_type": "markdown",
      "metadata": {
        "id": "Fz8eY2vPfZbi"
      },
      "source": [
        "# #4 Largest palindrome product"
      ]
    },
    {
      "cell_type": "code",
      "metadata": {
        "id": "e1VS9q3xfaSv",
        "colab": {
          "base_uri": "https://localhost:8080/"
        },
        "outputId": "9da1cfc5-23a6-4a3f-8b0b-cbc77114647d"
      },
      "source": [
        "maxProduct = 0\n",
        "maxI = 0\n",
        "maxJ = 0\n",
        "\n",
        "for i in range(999, 1, -1):\n",
        "  for j in range(999, 1, -1):\n",
        "    result = i*j\n",
        "    digitsCount = len(str(result))\n",
        "    if(digitsCount % 2 == 0):\n",
        "      halfDigitsCount = int(digitsCount/2)\n",
        "      strResult = str(result)\n",
        "\n",
        "      if(strResult[:halfDigitsCount] == strResult[halfDigitsCount:][::-1]):\n",
        "        if(result > maxProduct):\n",
        "          maxProduct = result\n",
        "          maxI = i\n",
        "          maxJ = j\n",
        "\n",
        "print(maxI, maxJ, maxProduct)"
      ],
      "execution_count": null,
      "outputs": [
        {
          "output_type": "stream",
          "text": [
            "993 913 906609\n"
          ],
          "name": "stdout"
        }
      ]
    },
    {
      "cell_type": "markdown",
      "metadata": {
        "id": "PcQ67e6OfadV"
      },
      "source": [
        "# #5 Smallest multiple"
      ]
    },
    {
      "cell_type": "code",
      "metadata": {
        "id": "SrqpRW3FfanL",
        "colab": {
          "base_uri": "https://localhost:8080/"
        },
        "outputId": "23db8170-6614-4b3b-d58c-b9a9a7b4a2e7"
      },
      "source": [
        "state = False\n",
        "result = 20\n",
        "\n",
        "while(not state):\n",
        "  for i in range(20, 1, -1):\n",
        "    if(result % i == 0):\n",
        "      if(i == 2):\n",
        "        state = True\n",
        "        break\n",
        "      else:\n",
        "        continue\n",
        "    else:\n",
        "      break\n",
        "  result += 20\n",
        "\n",
        "result -= 20\n",
        "\n",
        "print('result', result)"
      ],
      "execution_count": null,
      "outputs": [
        {
          "output_type": "stream",
          "text": [
            "result 232792560\n"
          ],
          "name": "stdout"
        }
      ]
    },
    {
      "cell_type": "markdown",
      "metadata": {
        "id": "I-kCmH5KfayG"
      },
      "source": [
        "# #6 Sum square difference"
      ]
    },
    {
      "cell_type": "code",
      "metadata": {
        "id": "appqIjp5fa_9",
        "colab": {
          "base_uri": "https://localhost:8080/"
        },
        "outputId": "8c98cea3-f4a9-4f05-bb5f-d157284b9cae"
      },
      "source": [
        "from math import pow\n",
        "\n",
        "sumOfSquares = 0\n",
        "squareOfSum = 0\n",
        "\n",
        "for i in range(1, 101):\n",
        "  squareOfSum += i\n",
        "  sumOfSquares += int(pow(i, 2))\n",
        "  \n",
        "squareOfSum = int(pow(squareOfSum, 2))\n",
        "\n",
        "print('sumOfSquares', sumOfSquares)\n",
        "print('squareOfSum', squareOfSum)\n",
        "\n",
        "print('Result', squareOfSum - sumOfSquares)"
      ],
      "execution_count": null,
      "outputs": [
        {
          "output_type": "stream",
          "text": [
            "sumOfSquares 338350\n",
            "squareOfSum 25502500\n",
            "Result 25164150\n"
          ],
          "name": "stdout"
        }
      ]
    },
    {
      "cell_type": "markdown",
      "metadata": {
        "id": "FnvJ72_JfbM8"
      },
      "source": [
        "# #7 10001st prime"
      ]
    },
    {
      "cell_type": "code",
      "metadata": {
        "id": "U3vdTRjrrSiT",
        "colab": {
          "base_uri": "https://localhost:8080/"
        },
        "outputId": "14401080-f3b8-40ea-814e-b71656bf544b"
      },
      "source": [
        "'''\n",
        "By listing the first six prime numbers: 2, 3, 5, 7, 11, and 13, we can see that the 6th prime is 13.\n",
        "\n",
        "What is the 10 001st prime number?\n",
        "'''\n",
        "\n",
        "def is_prime(x):\n",
        "  for i in range(3, int(math.sqrt(x))+1, 2):\n",
        "    if(x % i == 0):\n",
        "      return False\n",
        "  return True\n",
        "\n",
        "def get_primes(n):\n",
        "  yield 2\n",
        "  count = 1\n",
        "  i = 3\n",
        "  while(count<n):\n",
        "    if(is_prime(i)):\n",
        "      yield(i)\n",
        "      count += 1\n",
        "    i += 2\n",
        "\n",
        "primes = [x for x in get_primes(10001)]\n",
        "print(primes[-1])"
      ],
      "execution_count": null,
      "outputs": [
        {
          "output_type": "stream",
          "text": [
            "104743\n"
          ],
          "name": "stdout"
        }
      ]
    },
    {
      "cell_type": "markdown",
      "metadata": {
        "id": "xR-yJCKhjtlD"
      },
      "source": [
        "# #8 Largest product in a series"
      ]
    },
    {
      "cell_type": "code",
      "metadata": {
        "id": "FpFRexfxjwf5",
        "colab": {
          "base_uri": "https://localhost:8080/"
        },
        "outputId": "403e4ce6-228d-438a-b481-294493c6d578"
      },
      "source": [
        "'''\n",
        "The four adjacent digits in the 1000-digit number that have the greatest product are 9 × 9 × 8 × 9 = 5832.\n",
        "\n",
        "73167176531330624919225119674426574742355349194934\n",
        "96983520312774506326239578318016984801869478851843\n",
        "85861560789112949495459501737958331952853208805511\n",
        "12540698747158523863050715693290963295227443043557\n",
        "66896648950445244523161731856403098711121722383113\n",
        "62229893423380308135336276614282806444486645238749\n",
        "30358907296290491560440772390713810515859307960866\n",
        "70172427121883998797908792274921901699720888093776\n",
        "65727333001053367881220235421809751254540594752243\n",
        "52584907711670556013604839586446706324415722155397\n",
        "53697817977846174064955149290862569321978468622482\n",
        "83972241375657056057490261407972968652414535100474\n",
        "82166370484403199890008895243450658541227588666881\n",
        "16427171479924442928230863465674813919123162824586\n",
        "17866458359124566529476545682848912883142607690042\n",
        "24219022671055626321111109370544217506941658960408\n",
        "07198403850962455444362981230987879927244284909188\n",
        "84580156166097919133875499200524063689912560717606\n",
        "05886116467109405077541002256983155200055935729725\n",
        "71636269561882670428252483600823257530420752963450\n",
        "\n",
        "Find the thirteen adjacent digits in the 1000-digit number that have the greatest product. What is the value of this product?\n",
        "'''\n",
        "\n",
        "text = \"7316717653133062491922511967442657474235534919493496983520312774506326239578318016984801869478851843858615607891129494954595017379583319528532088055111254069874715852386305071569329096329522744304355766896648950445244523161731856403098711121722383113622298934233803081353362766142828064444866452387493035890729629049156044077239071381051585930796086670172427121883998797908792274921901699720888093776657273330010533678812202354218097512545405947522435258490771167055601360483958644670632441572215539753697817977846174064955149290862569321978468622482839722413756570560574902614079729686524145351004748216637048440319989000889524345065854122758866688116427171479924442928230863465674813919123162824586178664583591245665294765456828489128831426076900422421902267105562632111110937054421750694165896040807198403850962455444362981230987879927244284909188845801561660979191338754992005240636899125607176060588611646710940507754100225698315520005593572972571636269561882670428252483600823257530420752963450\"\n",
        "adjacent_digits_count = 13\n",
        "max_product = 0\n",
        "\n",
        "for i in range(0, len(text)-adjacent_digits_count+1):\n",
        "  temp_product = 1\n",
        "\n",
        "  for j in range(i, i + adjacent_digits_count):\n",
        "    temp_product *= int(text[j:j+1])\n",
        "\n",
        "  if temp_product > max_product:\n",
        "    max_product = temp_product\n",
        "\n",
        "print(max_product)"
      ],
      "execution_count": null,
      "outputs": [
        {
          "output_type": "stream",
          "text": [
            "23514624000\n"
          ],
          "name": "stdout"
        }
      ]
    },
    {
      "cell_type": "code",
      "metadata": {
        "id": "T8uRWOu8kBNu"
      },
      "source": [
        ""
      ],
      "execution_count": null,
      "outputs": []
    },
    {
      "cell_type": "markdown",
      "metadata": {
        "id": "FkrpxmFhJBw7"
      },
      "source": [
        "# #9 Special Pythagorean triplet"
      ]
    },
    {
      "cell_type": "code",
      "metadata": {
        "colab": {
          "base_uri": "https://localhost:8080/"
        },
        "id": "I9KRWEpGz5Wo",
        "outputId": "633363fc-e8c5-4ef2-937d-4c020500492d"
      },
      "source": [
        "'''\n",
        "A Pythagorean triplet is a set of three natural numbers, a < b < c, for which,\n",
        "\n",
        "a^2 + b^2 = c^2\n",
        "For example, 3^2 + 4^2 = 9 + 16 = 25 = 5^2.\n",
        "\n",
        "There exists exactly one Pythagorean triplet for which a + b + c = 1000.\n",
        "Find the product abc.\n",
        "'''\n",
        "\n",
        "for a in range(1,1000):\n",
        "  a_residue = 1000 - a\n",
        "  for b in range(1,a_residue):\n",
        "    c = a_residue - b\n",
        "    if (a**2 + b**2 == c**2):\n",
        "      print(a*b*c)"
      ],
      "execution_count": null,
      "outputs": [
        {
          "output_type": "stream",
          "text": [
            "31875000\n",
            "31875000\n"
          ],
          "name": "stdout"
        }
      ]
    },
    {
      "cell_type": "markdown",
      "metadata": {
        "id": "KRv-pSnHWDA-"
      },
      "source": [
        "# #10 Summation of primes"
      ]
    },
    {
      "cell_type": "code",
      "metadata": {
        "colab": {
          "base_uri": "https://localhost:8080/"
        },
        "id": "aSNSfGDXz5Qs",
        "outputId": "38f5feb8-7b05-43ff-cbb5-f1c480f03ce8"
      },
      "source": [
        "'''\n",
        "The sum of the primes below 10 is 2 + 3 + 5 + 7 = 17.\n",
        "\n",
        "Find the sum of all the primes below two million.\n",
        "'''\n",
        "\n",
        "def is_prime(x):\n",
        "  for i in range(3, int(math.sqrt(x))+1, 2):\n",
        "    if(x % i == 0):\n",
        "      return False\n",
        "  return True\n",
        "\n",
        "def get_sum_of_primes_below_threshold(threshold):\n",
        "  yield 2\n",
        "  i = 3\n",
        "  while(i<threshold):\n",
        "    if(is_prime(i)):\n",
        "      yield(i)\n",
        "    i += 2\n",
        "\n",
        "primes = [x for x in get_sum_of_primes_below_threshold(2000000)]\n",
        "print(sum(primes))"
      ],
      "execution_count": null,
      "outputs": [
        {
          "output_type": "stream",
          "text": [
            "142913828922\n"
          ],
          "name": "stdout"
        }
      ]
    },
    {
      "cell_type": "markdown",
      "metadata": {
        "id": "jz-ecMwCbRC_"
      },
      "source": [
        "# #11 Largest product in a grid"
      ]
    },
    {
      "cell_type": "code",
      "metadata": {
        "colab": {
          "base_uri": "https://localhost:8080/"
        },
        "id": "Ae7wS_xO8eNV",
        "outputId": "1287420f-8fd8-48e0-944c-b899d9b248b0"
      },
      "source": [
        "'''\n",
        "In the 20×20 grid below, four numbers along a diagonal line have been marked in red.\n",
        "\n",
        "08 02 22 97 38 15 00 40 00 75 04 05 07 78 52 12 50 77 91 08\n",
        "49 49 99 40 17 81 18 57 60 87 17 40 98 43 69 48 04 56 62 00\n",
        "81 49 31 73 55 79 14 29 93 71 40 67 53 88 30 03 49 13 36 65\n",
        "52 70 95 23 04 60 11 42 69 24 68 56 01 32 56 71 37 02 36 91\n",
        "22 31 16 71 51 67 63 89 41 92 36 54 22 40 40 28 66 33 13 80\n",
        "24 47 32 60 99 03 45 02 44 75 33 53 78 36 84 20 35 17 12 50\n",
        "32 98 81 28 64 23 67 10 26 38 40 67 59 54 70 66 18 38 64 70\n",
        "67 26 20 68 02 62 12 20 95 63 94 39 63 08 40 91 66 49 94 21\n",
        "24 55 58 05 66 73 99 26 97 17 78 78 96 83 14 88 34 89 63 72\n",
        "21 36 23 09 75 00 76 44 20 45 35 14 00 61 33 97 34 31 33 95\n",
        "78 17 53 28 22 75 31 67 15 94 03 80 04 62 16 14 09 53 56 92\n",
        "16 39 05 42 96 35 31 47 55 58 88 24 00 17 54 24 36 29 85 57\n",
        "86 56 00 48 35 71 89 07 05 44 44 37 44 60 21 58 51 54 17 58\n",
        "19 80 81 68 05 94 47 69 28 73 92 13 86 52 17 77 04 89 55 40\n",
        "04 52 08 83 97 35 99 16 07 97 57 32 16 26 26 79 33 27 98 66\n",
        "88 36 68 87 57 62 20 72 03 46 33 67 46 55 12 32 63 93 53 69\n",
        "04 42 16 73 38 25 39 11 24 94 72 18 08 46 29 32 40 62 76 36\n",
        "20 69 36 41 72 30 23 88 34 62 99 69 82 67 59 85 74 04 36 16\n",
        "20 73 35 29 78 31 90 01 74 31 49 71 48 86 81 16 23 57 05 54\n",
        "01 70 54 71 83 51 54 69 16 92 33 48 61 43 52 01 89 19 67 48\n",
        "\n",
        "The product of these numbers is 26 × 63 × 78 × 14 = 1788696.\n",
        "\n",
        "What is the greatest product of four adjacent numbers in the same direction (up, down, left, right, or diagonally) in the 20×20 grid?\n",
        "'''\n",
        "\n",
        "grid = [\n",
        "  [8, 2, 22, 97, 38, 15, 0, 40, 0, 75, 4, 5, 7, 78, 52, 12, 50, 77, 91, 8],\n",
        "  [49, 49, 99, 40, 17, 81, 18, 57, 60, 87, 17, 40, 98, 43, 69, 48, 4, 56, 62, 0],\n",
        "  [81, 49, 31, 73, 55, 79, 14, 29, 93, 71, 40, 67, 53, 88, 30, 3, 49, 13, 36, 65],\n",
        "  [52, 70, 95, 23, 4, 60, 11, 42, 69, 24, 68, 56, 1, 32, 56, 71, 37, 2, 36, 91],\n",
        "  [22, 31, 16, 71, 51, 67, 63, 89, 41, 92, 36, 54, 22, 40, 40, 28, 66, 33, 13, 80],\n",
        "  [24, 47, 32, 60, 99, 3, 45, 2, 44, 75, 33, 53, 78, 36, 84, 20, 35, 17, 12, 50],\n",
        "  [32, 98, 81, 28, 64, 23, 67, 10, 26, 38, 40, 67, 59, 54, 70, 66, 18, 38, 64, 70],\n",
        "  [67, 26, 20, 68, 2, 62, 12, 20, 95, 63, 94, 39, 63, 8, 40, 91, 66, 49, 94, 21],\n",
        "  [24, 55, 58, 5, 66, 73, 99, 26, 97, 17, 78, 78, 96, 83, 14, 88, 34, 89, 63, 72],\n",
        "  [21, 36, 23, 9, 75, 0, 76, 44, 20, 45, 35, 14, 0, 61, 33, 97, 34, 31, 33, 95],\n",
        "  [78, 17, 53, 28, 22, 75, 31, 67, 15, 94, 3, 80, 4, 62, 16, 14, 9, 53, 56, 92],\n",
        "  [16, 39, 5, 42, 96, 35, 31, 47, 55, 58, 88, 24, 0, 17, 54, 24, 36, 29, 85, 57],\n",
        "  [86, 56, 0, 48, 35, 71, 89, 7, 5, 44, 44, 37, 44, 60, 21, 58, 51, 54, 17, 58],\n",
        "  [19, 80, 81, 68, 5, 94, 47, 69, 28, 73, 92, 13, 86, 52, 17, 77, 4, 89, 55, 40],\n",
        "  [4, 52, 8, 83, 97, 35, 99, 16, 7, 97, 57, 32, 16, 26, 26, 79, 33, 27, 98, 66],\n",
        "  [88, 36, 68, 87, 57, 62, 20, 72, 3, 46, 33, 67, 46, 55, 12, 32, 63, 93, 53, 69],\n",
        "  [4, 42, 16, 73, 38, 25, 39, 11, 24, 94, 72, 18, 8, 46, 29, 32, 40, 62, 76, 36],\n",
        "  [20, 69, 36, 41, 72, 30, 23, 88, 34, 62, 99, 69, 82, 67, 59, 85, 74, 4, 36, 16],\n",
        "  [20, 73, 35, 29, 78, 31, 90, 1, 74, 31, 49, 71, 48, 86, 81, 16, 23, 57, 5, 54],\n",
        "  [1, 70, 54, 71, 83, 51, 54, 69, 16, 92, 33, 48, 61, 43, 52, 1, 89, 19, 67, 48]\n",
        "]\n",
        "\n",
        "adjacent_digits_count = 4\n",
        "max_prod = 0\n",
        "\n",
        "# THIS CHECKS ONLY DIAGONALLY !!!\n",
        "\n",
        "for index_row in range(len(grid) - adjacent_digits_count + 1):\n",
        "  for index_column in range(len(grid[0]) - adjacent_digits_count + 1):\n",
        "    value_1 = grid[index_row][index_column]\n",
        "    value_2 = grid[index_row+1][index_column+1]\n",
        "    value_3 = grid[index_row+2][index_column+2]\n",
        "    value_4 = grid[index_row+3][index_column+3]\n",
        "    temp_prod = value_1 * value_2 * value_3 * value_4\n",
        "    if (temp_prod > max_prod):\n",
        "      max_prod = temp_prod\n",
        "for index_row in range(len(grid) - adjacent_digits_count + 1):\n",
        "  temp = []\n",
        "  for index_column in range(adjacent_digits_count - 1, len(grid[0])):\n",
        "    temp.append(grid[index_row][index_column])\n",
        "    value_1 = grid[index_row][index_column]\n",
        "    value_2 = grid[index_row+1][index_column-1]\n",
        "    value_3 = grid[index_row+2][index_column-2]\n",
        "    value_4 = grid[index_row+3][index_column-3]\n",
        "    temp_prod = value_1 * value_2 * value_3 * value_4\n",
        "    if (temp_prod > max_prod):\n",
        "      max_prod = temp_prod\n",
        "\n",
        "print(max_prod)"
      ],
      "execution_count": null,
      "outputs": [
        {
          "output_type": "stream",
          "text": [
            "70600674\n"
          ],
          "name": "stdout"
        }
      ]
    },
    {
      "cell_type": "markdown",
      "metadata": {
        "id": "nuffsunQi1_n"
      },
      "source": [
        "# #12 Highly divisible triangular number"
      ]
    },
    {
      "cell_type": "code",
      "metadata": {
        "colab": {
          "base_uri": "https://localhost:8080/"
        },
        "id": "GRvOSFkl8eLJ",
        "outputId": "fb95adcc-9f22-4be7-958f-a91823c7bfc3"
      },
      "source": [
        "'''\n",
        "The sequence of triangle numbers is generated by adding the natural numbers. So the 7th triangle number would be 1 + 2 + 3 + 4 + 5 + 6 + 7 = 28. The first ten terms would be:\n",
        "\n",
        "1, 3, 6, 10, 15, 21, 28, 36, 45, 55, ...\n",
        "\n",
        "Let us list the factors of the first seven triangle numbers:\n",
        "\n",
        " 1: 1\n",
        " 3: 1,3\n",
        " 6: 1,2,3,6\n",
        "10: 1,2,5,10\n",
        "15: 1,3,5,15\n",
        "21: 1,3,7,21\n",
        "28: 1,2,4,7,14,28\n",
        "We can see that 28 is the first triangle number to have over five divisors.\n",
        "\n",
        "What is the value of the first triangle number to have over five hundred divisors?\n",
        "'''\n",
        "\n",
        "i = 0\n",
        "triangle_number = 0\n",
        "\n",
        "divisors_treshold = 500\n",
        "current_divisors_count = -1\n",
        "\n",
        "while (current_divisors_count < divisors_treshold):\n",
        "  i+=1\n",
        "  triangle_number += i\n",
        "  current_divisors_count = len([j for j in range(1, int(math.sqrt(triangle_number)) + 1) if triangle_number % j == 0])*2\n",
        "\n",
        "print(i, triangle_number, current_divisors_count)"
      ],
      "execution_count": null,
      "outputs": [
        {
          "output_type": "stream",
          "text": [
            "12375 76576500 576\n"
          ],
          "name": "stdout"
        }
      ]
    },
    {
      "cell_type": "markdown",
      "metadata": {
        "id": "SymQFBeW6Gin"
      },
      "source": [
        "# #13 Large sum"
      ]
    },
    {
      "cell_type": "code",
      "metadata": {
        "colab": {
          "base_uri": "https://localhost:8080/"
        },
        "id": "N2meGHsBDVVf",
        "outputId": "81538c3f-7c75-4956-8cc5-1d2951551021"
      },
      "source": [
        "'''\n",
        "Work out the first ten digits of the sum of the following one-hundred 50-digit numbers.\n",
        "'''\n",
        "\n",
        "text = [\n",
        "  \"37107287533902102798797998220837590246510135740250\",\n",
        "  \"46376937677490009712648124896970078050417018260538\",\n",
        "  \"74324986199524741059474233309513058123726617309629\",\n",
        "  \"91942213363574161572522430563301811072406154908250\",\n",
        "  \"23067588207539346171171980310421047513778063246676\",\n",
        "  \"89261670696623633820136378418383684178734361726757\",\n",
        "  \"28112879812849979408065481931592621691275889832738\",\n",
        "  \"44274228917432520321923589422876796487670272189318\",\n",
        "  \"47451445736001306439091167216856844588711603153276\",\n",
        "  \"70386486105843025439939619828917593665686757934951\",\n",
        "  \"62176457141856560629502157223196586755079324193331\",\n",
        "  \"64906352462741904929101432445813822663347944758178\",\n",
        "  \"92575867718337217661963751590579239728245598838407\",\n",
        "  \"58203565325359399008402633568948830189458628227828\",\n",
        "  \"80181199384826282014278194139940567587151170094390\",\n",
        "  \"35398664372827112653829987240784473053190104293586\",\n",
        "  \"86515506006295864861532075273371959191420517255829\",\n",
        "  \"71693888707715466499115593487603532921714970056938\",\n",
        "  \"54370070576826684624621495650076471787294438377604\",\n",
        "  \"53282654108756828443191190634694037855217779295145\",\n",
        "  \"36123272525000296071075082563815656710885258350721\",\n",
        "  \"45876576172410976447339110607218265236877223636045\",\n",
        "  \"17423706905851860660448207621209813287860733969412\",\n",
        "  \"81142660418086830619328460811191061556940512689692\",\n",
        "  \"51934325451728388641918047049293215058642563049483\",\n",
        "  \"62467221648435076201727918039944693004732956340691\",\n",
        "  \"15732444386908125794514089057706229429197107928209\",\n",
        "  \"55037687525678773091862540744969844508330393682126\",\n",
        "  \"18336384825330154686196124348767681297534375946515\",\n",
        "  \"80386287592878490201521685554828717201219257766954\",\n",
        "  \"78182833757993103614740356856449095527097864797581\",\n",
        "  \"16726320100436897842553539920931837441497806860984\",\n",
        "  \"48403098129077791799088218795327364475675590848030\",\n",
        "  \"87086987551392711854517078544161852424320693150332\",\n",
        "  \"59959406895756536782107074926966537676326235447210\",\n",
        "  \"69793950679652694742597709739166693763042633987085\",\n",
        "  \"41052684708299085211399427365734116182760315001271\",\n",
        "  \"65378607361501080857009149939512557028198746004375\",\n",
        "  \"35829035317434717326932123578154982629742552737307\",\n",
        "  \"94953759765105305946966067683156574377167401875275\",\n",
        "  \"88902802571733229619176668713819931811048770190271\",\n",
        "  \"25267680276078003013678680992525463401061632866526\",\n",
        "  \"36270218540497705585629946580636237993140746255962\",\n",
        "  \"24074486908231174977792365466257246923322810917141\",\n",
        "  \"91430288197103288597806669760892938638285025333403\",\n",
        "  \"34413065578016127815921815005561868836468420090470\",\n",
        "  \"23053081172816430487623791969842487255036638784583\",\n",
        "  \"11487696932154902810424020138335124462181441773470\",\n",
        "  \"63783299490636259666498587618221225225512486764533\",\n",
        "  \"67720186971698544312419572409913959008952310058822\",\n",
        "  \"95548255300263520781532296796249481641953868218774\",\n",
        "  \"76085327132285723110424803456124867697064507995236\",\n",
        "  \"37774242535411291684276865538926205024910326572967\",\n",
        "  \"23701913275725675285653248258265463092207058596522\",\n",
        "  \"29798860272258331913126375147341994889534765745501\",\n",
        "  \"18495701454879288984856827726077713721403798879715\",\n",
        "  \"38298203783031473527721580348144513491373226651381\",\n",
        "  \"34829543829199918180278916522431027392251122869539\",\n",
        "  \"40957953066405232632538044100059654939159879593635\",\n",
        "  \"29746152185502371307642255121183693803580388584903\",\n",
        "  \"41698116222072977186158236678424689157993532961922\",\n",
        "  \"62467957194401269043877107275048102390895523597457\",\n",
        "  \"23189706772547915061505504953922979530901129967519\",\n",
        "  \"86188088225875314529584099251203829009407770775672\",\n",
        "  \"11306739708304724483816533873502340845647058077308\",\n",
        "  \"82959174767140363198008187129011875491310547126581\",\n",
        "  \"97623331044818386269515456334926366572897563400500\",\n",
        "  \"42846280183517070527831839425882145521227251250327\",\n",
        "  \"55121603546981200581762165212827652751691296897789\",\n",
        "  \"32238195734329339946437501907836945765883352399886\",\n",
        "  \"75506164965184775180738168837861091527357929701337\",\n",
        "  \"62177842752192623401942399639168044983993173312731\",\n",
        "  \"32924185707147349566916674687634660915035914677504\",\n",
        "  \"99518671430235219628894890102423325116913619626622\",\n",
        "  \"73267460800591547471830798392868535206946944540724\",\n",
        "  \"76841822524674417161514036427982273348055556214818\",\n",
        "  \"97142617910342598647204516893989422179826088076852\",\n",
        "  \"87783646182799346313767754307809363333018982642090\",\n",
        "  \"10848802521674670883215120185883543223812876952786\",\n",
        "  \"71329612474782464538636993009049310363619763878039\",\n",
        "  \"62184073572399794223406235393808339651327408011116\",\n",
        "  \"66627891981488087797941876876144230030984490851411\",\n",
        "  \"60661826293682836764744779239180335110989069790714\",\n",
        "  \"85786944089552990653640447425576083659976645795096\",\n",
        "  \"66024396409905389607120198219976047599490197230297\",\n",
        "  \"64913982680032973156037120041377903785566085089252\",\n",
        "  \"16730939319872750275468906903707539413042652315011\",\n",
        "  \"94809377245048795150954100921645863754710598436791\",\n",
        "  \"78639167021187492431995700641917969777599028300699\",\n",
        "  \"15368713711936614952811305876380278410754449733078\",\n",
        "  \"40789923115535562561142322423255033685442488917353\",\n",
        "  \"44889911501440648020369068063960672322193204149535\",\n",
        "  \"41503128880339536053299340368006977710650566631954\",\n",
        "  \"81234880673210146739058568557934581403627822703280\",\n",
        "  \"82616570773948327592232845941706525094512325230608\",\n",
        "  \"22918802058777319719839450180888072429661980811197\",\n",
        "  \"77158542502016545090413245809786882778948721859617\",\n",
        "  \"72107838435069186155435662884062257473692284509516\",\n",
        "  \"20849603980134001723930671666823555245252804609722\",\n",
        "  \"53503534226472524250874054075591789781264330331690\"\n",
        "]\n",
        "\n",
        "total_sum = 0\n",
        "\n",
        "for line in text:\n",
        "  total_sum += int(line)\n",
        "\n",
        "print(str(total_sum)[:10])"
      ],
      "execution_count": null,
      "outputs": [
        {
          "output_type": "stream",
          "text": [
            "5537376230\n"
          ],
          "name": "stdout"
        }
      ]
    },
    {
      "cell_type": "markdown",
      "metadata": {
        "id": "sNi0L2ul7Phw"
      },
      "source": [
        "# #14 Longest Collatz sequence"
      ]
    },
    {
      "cell_type": "code",
      "metadata": {
        "id": "sjumrotSDVTF"
      },
      "source": [
        "'''\n",
        "The following iterative sequence is defined for the set of positive integers:\n",
        "\n",
        "n → n/2 (n is even)\n",
        "n → 3n + 1 (n is odd)\n",
        "\n",
        "Using the rule above and starting with 13, we generate the following sequence:\n",
        "\n",
        "13 → 40 → 20 → 10 → 5 → 16 → 8 → 4 → 2 → 1\n",
        "It can be seen that this sequence (starting at 13 and finishing at 1) contains 10 terms. Although it has not been proved yet (Collatz Problem), it is thought that all starting numbers finish at 1.\n",
        "\n",
        "Which starting number, under one million, produces the longest chain?\n",
        "\n",
        "NOTE: Once the chain starts the terms are allowed to go above one million.\n",
        "'''\n",
        "\n",
        "number = 13\n",
        "\n",
        "max_terms = 0\n",
        "max_terms_starting_number = 0\n",
        "\n",
        "for starting_number in range(1, 1000000):\n",
        "  terms_count = 1\n",
        "  i = starting_number\n",
        "  while (i != 1):\n",
        "    if (i % 2 == 0):\n",
        "      i /= 2\n",
        "    else:\n",
        "      i = i * 3 + 1\n",
        "    terms_count += 1\n",
        "\n",
        "  if (terms_count > max_terms):\n",
        "    max_terms = terms_count\n",
        "    max_terms_starting_number = starting_number\n",
        "\n",
        "print(max_terms)\n",
        "print(max_terms_starting_number)"
      ],
      "execution_count": null,
      "outputs": []
    },
    {
      "cell_type": "markdown",
      "metadata": {
        "id": "82FMuFZQ-yTg"
      },
      "source": [
        "# #15 Lattice paths"
      ]
    },
    {
      "cell_type": "code",
      "metadata": {
        "colab": {
          "base_uri": "https://localhost:8080/"
        },
        "id": "llX4_iAoz5F2",
        "outputId": "5b1a1d46-df08-4f00-b836-0e21b0657fb3"
      },
      "source": [
        "'''\n",
        "Starting in the top left corner of a 2×2 grid, and only being able to move to the right and down, there are exactly 6 routes to the bottom right corner.\n",
        "\n",
        "[image]\n",
        "\n",
        "How many such routes are there through a 20×20 grid?\n",
        "'''\n",
        "\n",
        "'''\n",
        "\n",
        "[2, 3, 4,   5,  ...]\n",
        "[3, 6, 10,  15, ...]\n",
        "[4, 10, 20, 35, ...]\n",
        "[5, 15, 35, 70, ...]\n",
        "...\n",
        "\n",
        "'''\n",
        "\n",
        "grid_values = [\n",
        "  [0,0,0,0,0,0,0,0,0,0,0,0,0,0,0,0,0,0,0,0,],\n",
        "  [0,0,0,0,0,0,0,0,0,0,0,0,0,0,0,0,0,0,0,0,],\n",
        "  [0,0,0,0,0,0,0,0,0,0,0,0,0,0,0,0,0,0,0,0,],\n",
        "  [0,0,0,0,0,0,0,0,0,0,0,0,0,0,0,0,0,0,0,0,],\n",
        "  [0,0,0,0,0,0,0,0,0,0,0,0,0,0,0,0,0,0,0,0,],\n",
        "  [0,0,0,0,0,0,0,0,0,0,0,0,0,0,0,0,0,0,0,0,],\n",
        "  [0,0,0,0,0,0,0,0,0,0,0,0,0,0,0,0,0,0,0,0,],\n",
        "  [0,0,0,0,0,0,0,0,0,0,0,0,0,0,0,0,0,0,0,0,],\n",
        "  [0,0,0,0,0,0,0,0,0,0,0,0,0,0,0,0,0,0,0,0,],\n",
        "  [0,0,0,0,0,0,0,0,0,0,0,0,0,0,0,0,0,0,0,0,],\n",
        "  [0,0,0,0,0,0,0,0,0,0,0,0,0,0,0,0,0,0,0,0,],\n",
        "  [0,0,0,0,0,0,0,0,0,0,0,0,0,0,0,0,0,0,0,0,],\n",
        "  [0,0,0,0,0,0,0,0,0,0,0,0,0,0,0,0,0,0,0,0,],\n",
        "  [0,0,0,0,0,0,0,0,0,0,0,0,0,0,0,0,0,0,0,0,],\n",
        "  [0,0,0,0,0,0,0,0,0,0,0,0,0,0,0,0,0,0,0,0,],\n",
        "  [0,0,0,0,0,0,0,0,0,0,0,0,0,0,0,0,0,0,0,0,],\n",
        "  [0,0,0,0,0,0,0,0,0,0,0,0,0,0,0,0,0,0,0,0,],\n",
        "  [0,0,0,0,0,0,0,0,0,0,0,0,0,0,0,0,0,0,0,0,],\n",
        "  [0,0,0,0,0,0,0,0,0,0,0,0,0,0,0,0,0,0,0,0,],\n",
        "  [0,0,0,0,0,0,0,0,0,0,0,0,0,0,0,0,0,0,0,0,]\n",
        "]\n",
        "\n",
        "grid_values[0][0] = 2\n",
        "\n",
        "for i in range(1, 20):\n",
        "  grid_values[0][i] = i + 2\n",
        "  grid_values[i][0] = i + 2\n",
        "\n",
        "for i in range(1, 20):\n",
        "  for j in range(1, 20):\n",
        "    grid_values[i][j] = grid_values[i][j-1] + grid_values[i-1][j]\n",
        "\n",
        "print(grid_values[-1][-1])"
      ],
      "execution_count": null,
      "outputs": [
        {
          "output_type": "stream",
          "text": [
            "137846528820\n"
          ],
          "name": "stdout"
        }
      ]
    },
    {
      "cell_type": "markdown",
      "metadata": {
        "id": "YBTGCB7sUrFe"
      },
      "source": [
        "# #16 Power digit sum"
      ]
    },
    {
      "cell_type": "code",
      "metadata": {
        "id": "dut2tDx4D-Zw"
      },
      "source": [
        "'''\n",
        "2^15 = 32768 and the sum of its digits is 3 + 2 + 7 + 6 + 8 = 26.\n",
        "\n",
        "What is the sum of the digits of the number 2^1000?\n",
        "'''"
      ],
      "execution_count": null,
      "outputs": []
    },
    {
      "cell_type": "code",
      "metadata": {
        "id": "puwRvAYN6mWl",
        "colab": {
          "base_uri": "https://localhost:8080/"
        },
        "outputId": "4fb9d815-53d7-43dd-8cfd-da6d156fa633"
      },
      "source": [
        "result_str = str(2**1000)\n",
        "\n",
        "total_sum = 0\n",
        "\n",
        "for digit in result_str:\n",
        "  total_sum += int(digit)\n",
        "\n",
        "print(total_sum)"
      ],
      "execution_count": null,
      "outputs": [
        {
          "output_type": "stream",
          "text": [
            "1366\n"
          ],
          "name": "stdout"
        }
      ]
    },
    {
      "cell_type": "markdown",
      "metadata": {
        "id": "bXziNO-CdMn8"
      },
      "source": [
        "# #17 Number letter counts"
      ]
    },
    {
      "cell_type": "code",
      "metadata": {
        "colab": {
          "base_uri": "https://localhost:8080/"
        },
        "id": "3IyvX-nzdLTI",
        "outputId": "0c0ef4a6-f8c4-4b41-947e-4acb4e6a79b9"
      },
      "source": [
        "'''\n",
        "If the numbers 1 to 5 are written out in words: one, two, three, four, five, then there are 3 + 3 + 5 + 4 + 4 = 19 letters used in total.\n",
        "\n",
        "If all the numbers from 1 to 1000 (one thousand) inclusive were written out in words, how many letters would be used?\n",
        "\n",
        "\n",
        "NOTE: Do not count spaces or hyphens. For example, 342 (three hundred and forty-two) contains 23 letters and 115 (one hundred and fifteen) contains 20 letters. The use of \"and\" when writing out numbers is in compliance with British usage.\n",
        "'''\n",
        "\n",
        "'''\n",
        "This code does not support numbers > 1000\n",
        "'''\n",
        "\n",
        "cases_X = {\n",
        "    1: \"one\",\n",
        "    2: \"two\",\n",
        "    3: \"three\",\n",
        "    4: \"four\",\n",
        "    5: \"five\",\n",
        "    6: \"six\",\n",
        "    7: \"seven\",\n",
        "    8: \"eight\",\n",
        "    9: \"nine\"\n",
        "}\n",
        "cases_YX = {\n",
        "    1: \"ten\",\n",
        "    2: \"twenty\",\n",
        "    3: \"thirty\",\n",
        "    4: \"forty\",\n",
        "    5: \"fifty\",\n",
        "    6: \"sixty\",\n",
        "    7: \"seventy\",\n",
        "    8: \"eighty\",\n",
        "    9: \"ninety\"\n",
        "}\n",
        "certain_cases = {\n",
        "    11: \"eleven\",\n",
        "    12: \"twelve\",\n",
        "    13: \"thirteen\",\n",
        "    14: \"fourteen\",\n",
        "    15: \"fifteen\",\n",
        "    16: \"sixteen\",\n",
        "    17: \"seventeen\",\n",
        "    18: \"eighteen\",\n",
        "    19: \"nineteen\"\n",
        "}\n",
        "special_cases = {\n",
        "    1000: \"onethousand\"\n",
        "}\n",
        "\n",
        "total_letters_count = 0\n",
        "\n",
        "def get_number_str(number):\n",
        "  number_str = ''\n",
        "\n",
        "  if (number in special_cases):\n",
        "    return special_cases[number]\n",
        "\n",
        "  if (len(str(number)) == 1):\n",
        "    number = \"00\" + str(number)\n",
        "  elif (len(str(number)) == 2):\n",
        "    number = \"0\" + str(number)\n",
        "\n",
        "  number_split = [str(char) for char in str(number)] # E.g., ['3', '4', '2']\n",
        "\n",
        "  if (number_split[0] != '0'):\n",
        "    number_str += cases_X[int(number_split[0])] + \"hundred\"\n",
        "    if ((number_split[1] != '0') or (number_split[2] != '0')):\n",
        "      number_str += \"and\"\n",
        "\n",
        "  number_2_and_3 = int(number_split[1] + number_split[2])\n",
        "\n",
        "  if (number_2_and_3 in certain_cases):\n",
        "    number_str += certain_cases[number_2_and_3]\n",
        "  else:\n",
        "    if (number_split[1] != '0'):\n",
        "      number_str += cases_YX[int(number_split[1])]\n",
        "    if (number_split[2] != '0'):\n",
        "      number_str += cases_X[int(number_split[2])]\n",
        "\n",
        "  return number_str\n",
        "\n",
        "\n",
        "\n",
        "for number in range(1, 1000+1):\n",
        "  total_letters_count += len(get_number_str(number))\n",
        "\n",
        "print(total_letters_count)"
      ],
      "execution_count": 126,
      "outputs": [
        {
          "output_type": "stream",
          "text": [
            "21124\n"
          ],
          "name": "stdout"
        }
      ]
    },
    {
      "cell_type": "code",
      "metadata": {
        "id": "vkkmyLjddLQ_"
      },
      "source": [
        ""
      ],
      "execution_count": 126,
      "outputs": []
    },
    {
      "cell_type": "code",
      "metadata": {
        "id": "qBwEVfW_dLOv"
      },
      "source": [
        ""
      ],
      "execution_count": 80,
      "outputs": []
    },
    {
      "cell_type": "code",
      "metadata": {
        "id": "AvuQU0H96mUw"
      },
      "source": [
        ""
      ],
      "execution_count": null,
      "outputs": []
    },
    {
      "cell_type": "code",
      "metadata": {
        "id": "olf7T9EILwIg"
      },
      "source": [
        ""
      ],
      "execution_count": null,
      "outputs": []
    },
    {
      "cell_type": "code",
      "metadata": {
        "id": "IyduD11JLypT"
      },
      "source": [
        ""
      ],
      "execution_count": null,
      "outputs": []
    },
    {
      "cell_type": "code",
      "metadata": {
        "id": "yVjS9HQ0Q8g8"
      },
      "source": [
        ""
      ],
      "execution_count": null,
      "outputs": []
    },
    {
      "cell_type": "markdown",
      "metadata": {
        "id": "E3gXJcxGWLt0"
      },
      "source": [
        "# #20 Factorial digit sum"
      ]
    },
    {
      "cell_type": "code",
      "metadata": {
        "id": "_EgCM6KrWPBG",
        "colab": {
          "base_uri": "https://localhost:8080/"
        },
        "outputId": "8f2fcfbd-6793-4cac-c66c-20711bde2a22"
      },
      "source": [
        "'''\n",
        "n! means n × (n − 1) × ... × 3 × 2 × 1\n",
        "\n",
        "For example, 10! = 10 × 9 × ... × 3 × 2 × 1 = 3628800,\n",
        "and the sum of the digits in the number 10! is 3 + 6 + 2 + 8 + 8 + 0 + 0 = 27.\n",
        "\n",
        "Find the sum of the digits in the number 100!\n",
        "'''\n",
        "\n",
        "number = 100\n",
        "\n",
        "def calc_product(number):\n",
        "  procuct = 1\n",
        "  for i in reversed(range(1, number+1)):\n",
        "    procuct *= i\n",
        "  return procuct\n",
        "\n",
        "product = calc_product(number)\n",
        "\n",
        "res_sum = 0\n",
        "\n",
        "for char in str(product):\n",
        "  res_sum += int(char)\n",
        "\n",
        "print(res_sum)"
      ],
      "execution_count": 17,
      "outputs": [
        {
          "output_type": "stream",
          "text": [
            "648\n"
          ],
          "name": "stdout"
        }
      ]
    },
    {
      "cell_type": "code",
      "metadata": {
        "id": "R_yYR5cOWP3-"
      },
      "source": [
        ""
      ],
      "execution_count": 17,
      "outputs": []
    },
    {
      "cell_type": "code",
      "metadata": {
        "id": "qTp_fw0fWQGA"
      },
      "source": [
        ""
      ],
      "execution_count": null,
      "outputs": []
    },
    {
      "cell_type": "code",
      "metadata": {
        "id": "Vv_fjngnWQNA"
      },
      "source": [
        ""
      ],
      "execution_count": null,
      "outputs": []
    },
    {
      "cell_type": "code",
      "metadata": {
        "id": "omXkNkVAWQVE"
      },
      "source": [
        ""
      ],
      "execution_count": null,
      "outputs": []
    },
    {
      "cell_type": "markdown",
      "metadata": {
        "id": "uze5MrW1ZakG"
      },
      "source": [
        "# #30 Digit fifth powers"
      ]
    },
    {
      "cell_type": "code",
      "metadata": {
        "id": "yBHvApBlWQip",
        "colab": {
          "base_uri": "https://localhost:8080/"
        },
        "outputId": "9cf9498a-cb76-4db7-e709-7caafdda7982"
      },
      "source": [
        "'''\n",
        "Surprisingly there are only three numbers that can be written as the sum of fourth powers of their digits:\n",
        "\n",
        "1634 = 1^4 + 6^4 + 3^4 + 4^4\n",
        "8208 = 8^4 + 2^4 + 0^4 + 8^4\n",
        "9474 = 9^4 + 4^4 + 7^4 + 4^4\n",
        "As 1 = 14 is not a sum it is not included.\n",
        "\n",
        "The sum of these numbers is 1634 + 8208 + 9474 = 19316.\n",
        "\n",
        "Find the sum of all the numbers that can be written as the sum of fifth powers of their digits.\n",
        "'''\n",
        "\n",
        "# 6*(9**5) == 354294\n",
        "power = 5\n",
        "total_sum = 0\n",
        "\n",
        "for testing_number in range(2, 354294):\n",
        "  digits_nth_power_sum = 0\n",
        "  for digit in str(testing_number):\n",
        "    digits_nth_power_sum += int(digit)**power\n",
        "  if (testing_number == digits_nth_power_sum):\n",
        "    total_sum += testing_number\n",
        "\n",
        "print(total_sum)"
      ],
      "execution_count": 128,
      "outputs": [
        {
          "output_type": "stream",
          "text": [
            "443839\n"
          ],
          "name": "stdout"
        }
      ]
    },
    {
      "cell_type": "code",
      "metadata": {
        "id": "XJPIYA58ZgoK"
      },
      "source": [
        ""
      ],
      "execution_count": 127,
      "outputs": []
    },
    {
      "cell_type": "code",
      "metadata": {
        "id": "-ep8jqtEZgiK"
      },
      "source": [
        ""
      ],
      "execution_count": null,
      "outputs": []
    }
  ]
}