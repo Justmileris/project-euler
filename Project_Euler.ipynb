{
  "nbformat": 4,
  "nbformat_minor": 0,
  "metadata": {
    "colab": {
      "name": "Project Euler.ipynb",
      "provenance": [],
      "collapsed_sections": [],
      "toc_visible": true,
      "include_colab_link": true
    },
    "kernelspec": {
      "name": "python3",
      "display_name": "Python 3"
    }
  },
  "cells": [
    {
      "cell_type": "markdown",
      "metadata": {
        "id": "view-in-github",
        "colab_type": "text"
      },
      "source": [
        "<a href=\"https://colab.research.google.com/github/Justmileris/project-euler/blob/master/Project_Euler.ipynb\" target=\"_parent\"><img src=\"https://colab.research.google.com/assets/colab-badge.svg\" alt=\"Open In Colab\"/></a>"
      ]
    },
    {
      "cell_type": "markdown",
      "metadata": {
        "id": "pgexJcc2SIP1"
      },
      "source": [
        "# #1 Multiples of 3 and 5"
      ]
    },
    {
      "cell_type": "code",
      "metadata": {
        "id": "DXh1XE9LSMhw",
        "colab": {
          "base_uri": "https://localhost:8080/"
        },
        "outputId": "aabf404c-08e4-4266-854a-7166360f2465"
      },
      "source": [
        "total = 0\n",
        "\n",
        "for i in range(1, 1000):\n",
        "  if(i%3==0 or i%5==0):\n",
        "    total += i\n",
        "    \n",
        "print(total)"
      ],
      "execution_count": 4,
      "outputs": [
        {
          "output_type": "stream",
          "text": [
            "233168\n"
          ],
          "name": "stdout"
        }
      ]
    },
    {
      "cell_type": "markdown",
      "metadata": {
        "id": "EMTEYLZ3T1MR"
      },
      "source": [
        "# #2 Even Fibonacci numbers"
      ]
    },
    {
      "cell_type": "code",
      "metadata": {
        "id": "VQMvWdfPT5ml",
        "colab": {
          "base_uri": "https://localhost:8080/"
        },
        "outputId": "1c5b73f2-eabc-4241-d284-5ddf7a3bb35b"
      },
      "source": [
        "previousNumber = 1\n",
        "currentNumber = 2\n",
        "resultSum = 2\n",
        "\n",
        "while(currentNumber + previousNumber < 4000000):\n",
        "  currentNumber += previousNumber\n",
        "  previousNumber = currentNumber-previousNumber\n",
        "  \n",
        "  if(currentNumber%2==0):\n",
        "    resultSum += currentNumber\n",
        "  \n",
        "  # print(currentNumber)\n",
        "  \n",
        "print('resultSum:', resultSum)"
      ],
      "execution_count": 5,
      "outputs": [
        {
          "output_type": "stream",
          "text": [
            "resultSum: 4613732\n"
          ],
          "name": "stdout"
        }
      ]
    },
    {
      "cell_type": "markdown",
      "metadata": {
        "id": "Pwf6nsiBVzH2"
      },
      "source": [
        "# #3 Largest prime factor"
      ]
    },
    {
      "cell_type": "code",
      "metadata": {
        "id": "Ot9vtgzBUFJ6",
        "colab": {
          "base_uri": "https://localhost:8080/"
        },
        "outputId": "1a3e7f05-46e5-42e6-df56-5006c425acfc"
      },
      "source": [
        "import math\n",
        "\n",
        "# givenNumber = 13195\n",
        "givenNumber = 600851475143\n",
        "primesArr = []\n",
        "\n",
        "while(givenNumber%2==0):\n",
        "  primesArr.append(2)\n",
        "  givenNumber /= 2\n",
        "\n",
        "\n",
        "for i in range(3, int(math.sqrt(givenNumber))+1, 2):\n",
        "  while(givenNumber % i == 0):\n",
        "    primesArr.append(i)\n",
        "    givenNumber /= i\n",
        "      \n",
        "# Isn't conditional missing here?\n",
        "  \n",
        "print(primesArr)"
      ],
      "execution_count": 34,
      "outputs": [
        {
          "output_type": "stream",
          "text": [
            "[71, 839, 1471, 6857]\n"
          ],
          "name": "stdout"
        }
      ]
    },
    {
      "cell_type": "markdown",
      "metadata": {
        "id": "Fz8eY2vPfZbi"
      },
      "source": [
        "# #4 Largest palindrome product"
      ]
    },
    {
      "cell_type": "code",
      "metadata": {
        "id": "e1VS9q3xfaSv",
        "colab": {
          "base_uri": "https://localhost:8080/",
          "height": 34
        },
        "outputId": "f82de2fb-e319-4519-bb52-d233d059e28b"
      },
      "source": [
        "maxProduct = 0\n",
        "maxI = 0\n",
        "maxJ = 0\n",
        "\n",
        "for i in range(999, 1, -1):\n",
        "  for j in range(999, 1, -1):\n",
        "    result = i*j\n",
        "    digitsCount = len(str(result))\n",
        "    if(digitsCount % 2 == 0):\n",
        "      halfDigitsCount = int(digitsCount/2)\n",
        "      strResult = str(result)\n",
        "\n",
        "      if(strResult[:halfDigitsCount] == strResult[halfDigitsCount:][::-1]):\n",
        "        if(result > maxProduct):\n",
        "          maxProduct = result\n",
        "          maxI = i\n",
        "          maxJ = j\n",
        "\n",
        "print(maxI, maxJ, maxProduct)"
      ],
      "execution_count": null,
      "outputs": [
        {
          "output_type": "stream",
          "text": [
            "993 913 906609\n"
          ],
          "name": "stdout"
        }
      ]
    },
    {
      "cell_type": "markdown",
      "metadata": {
        "id": "PcQ67e6OfadV"
      },
      "source": [
        "# #5 Smallest multiple"
      ]
    },
    {
      "cell_type": "code",
      "metadata": {
        "id": "SrqpRW3FfanL",
        "colab": {
          "base_uri": "https://localhost:8080/",
          "height": 34
        },
        "outputId": "9ca0fed5-7d38-4a1b-de7a-2685e2562050"
      },
      "source": [
        "state = False\n",
        "result = 20\n",
        "\n",
        "while(not state):\n",
        "  for i in range(20, 1, -1):\n",
        "    if(result % i == 0):\n",
        "      if(i == 2):\n",
        "        state = True\n",
        "        break\n",
        "      else:\n",
        "        continue\n",
        "    else:\n",
        "      break\n",
        "  result += 20\n",
        "\n",
        "result -= 20\n",
        "\n",
        "print('result', result)"
      ],
      "execution_count": null,
      "outputs": [
        {
          "output_type": "stream",
          "text": [
            "result 232792560\n"
          ],
          "name": "stdout"
        }
      ]
    },
    {
      "cell_type": "markdown",
      "metadata": {
        "id": "I-kCmH5KfayG"
      },
      "source": [
        "# #6 Sum square difference"
      ]
    },
    {
      "cell_type": "code",
      "metadata": {
        "id": "appqIjp5fa_9",
        "colab": {
          "base_uri": "https://localhost:8080/",
          "height": 68
        },
        "outputId": "38980613-32a7-4d8c-cf6f-f9b5d710d7b1"
      },
      "source": [
        "from math import pow\n",
        "\n",
        "sumOfSquares = 0\n",
        "squareOfSum = 0\n",
        "\n",
        "for i in range(1, 101):\n",
        "  squareOfSum += i\n",
        "  sumOfSquares += int(pow(i, 2))\n",
        "  \n",
        "squareOfSum = int(pow(squareOfSum, 2))\n",
        "\n",
        "print('sumOfSquares', sumOfSquares)\n",
        "print('squareOfSum', squareOfSum)\n",
        "\n",
        "print('Result', squareOfSum - sumOfSquares)"
      ],
      "execution_count": null,
      "outputs": [
        {
          "output_type": "stream",
          "text": [
            "sumOfSquares 338350\n",
            "squareOfSum 25502500\n",
            "Result 25164150\n"
          ],
          "name": "stdout"
        }
      ]
    },
    {
      "cell_type": "markdown",
      "metadata": {
        "id": "FnvJ72_JfbM8"
      },
      "source": [
        "# #7 10001st prime"
      ]
    },
    {
      "cell_type": "code",
      "metadata": {
        "id": "U3vdTRjrrSiT",
        "colab": {
          "base_uri": "https://localhost:8080/",
          "height": 34
        },
        "outputId": "18607306-2852-46dc-8664-5ddcf6abcfca"
      },
      "source": [
        "a = [1,2,2,2,3,3,3,3,3, 3 , 3]\n",
        "a.count(3)"
      ],
      "execution_count": null,
      "outputs": [
        {
          "output_type": "execute_result",
          "data": {
            "text/plain": [
              "7"
            ]
          },
          "metadata": {
            "tags": []
          },
          "execution_count": 15
        }
      ]
    },
    {
      "cell_type": "code",
      "metadata": {
        "id": "YQAByAJKicKP"
      },
      "source": [
        ""
      ],
      "execution_count": null,
      "outputs": []
    },
    {
      "cell_type": "code",
      "metadata": {
        "id": "cfA3An8iJgC1"
      },
      "source": [
        "def simple_gen():\n",
        "  for x in range(3):\n",
        "    yield x"
      ],
      "execution_count": null,
      "outputs": []
    },
    {
      "cell_type": "code",
      "metadata": {
        "id": "EoxD1Lmuqnlw",
        "colab": {
          "base_uri": "https://localhost:8080/",
          "height": 67
        },
        "outputId": "466c52e9-b88d-4fc9-cad7-28a59d0147c3"
      },
      "source": [
        " "
      ],
      "execution_count": null,
      "outputs": [
        {
          "output_type": "stream",
          "text": [
            "0\n",
            "1\n",
            "2\n"
          ],
          "name": "stdout"
        }
      ]
    },
    {
      "cell_type": "code",
      "metadata": {
        "id": "Uj_euOyoqsaI"
      },
      "source": [
        "g = simple_gen()"
      ],
      "execution_count": null,
      "outputs": []
    },
    {
      "cell_type": "code",
      "metadata": {
        "id": "V2f10_3Tqvko",
        "colab": {
          "base_uri": "https://localhost:8080/",
          "height": 34
        },
        "outputId": "18fe27aa-f5b0-4588-eb03-3f9426f97c71"
      },
      "source": [
        "next(g)"
      ],
      "execution_count": null,
      "outputs": [
        {
          "output_type": "execute_result",
          "data": {
            "text/plain": [
              "0"
            ]
          },
          "metadata": {
            "tags": []
          },
          "execution_count": 12
        }
      ]
    },
    {
      "cell_type": "code",
      "metadata": {
        "id": "Aak7LbV9uwDL",
        "colab": {
          "base_uri": "https://localhost:8080/",
          "height": 34
        },
        "outputId": "db085617-e05c-4187-900c-939db4557945"
      },
      "source": [
        "next(g)"
      ],
      "execution_count": null,
      "outputs": [
        {
          "output_type": "execute_result",
          "data": {
            "text/plain": [
              "1"
            ]
          },
          "metadata": {
            "tags": []
          },
          "execution_count": 13
        }
      ]
    },
    {
      "cell_type": "code",
      "metadata": {
        "id": "Qi60c5FEBFkB"
      },
      "source": [
        ""
      ],
      "execution_count": null,
      "outputs": []
    },
    {
      "cell_type": "code",
      "metadata": {
        "id": "ISXkgD8yBkEW"
      },
      "source": [
        ""
      ],
      "execution_count": null,
      "outputs": []
    },
    {
      "cell_type": "code",
      "metadata": {
        "id": "hpHdYKP4Bj7E",
        "colab": {
          "base_uri": "https://localhost:8080/",
          "height": 101
        },
        "outputId": "6cf0ca70-681b-4183-ab47-db325645dce5"
      },
      "source": [
        ""
      ],
      "execution_count": null,
      "outputs": [
        {
          "output_type": "stream",
          "text": [
            "h\n",
            "e\n",
            "l\n",
            "l\n",
            "o\n"
          ],
          "name": "stdout"
        }
      ]
    },
    {
      "cell_type": "code",
      "metadata": {
        "id": "y-oOM6U1Bj5N"
      },
      "source": [
        ""
      ],
      "execution_count": null,
      "outputs": []
    },
    {
      "cell_type": "code",
      "metadata": {
        "id": "WXw2NvbYBj1C",
        "colab": {
          "base_uri": "https://localhost:8080/",
          "height": 34
        },
        "outputId": "420c4c2d-a0d4-4fb5-9800-3454d9517535"
      },
      "source": [
        ""
      ],
      "execution_count": null,
      "outputs": [
        {
          "output_type": "execute_result",
          "data": {
            "text/plain": [
              "'h'"
            ]
          },
          "metadata": {
            "tags": []
          },
          "execution_count": 18
        }
      ]
    },
    {
      "cell_type": "code",
      "metadata": {
        "id": "E-6sB48CBjsA",
        "colab": {
          "base_uri": "https://localhost:8080/",
          "height": 34
        },
        "outputId": "f961025b-5a1f-4ae3-c9bf-e177128d694c"
      },
      "source": [
        ""
      ],
      "execution_count": null,
      "outputs": [
        {
          "output_type": "execute_result",
          "data": {
            "text/plain": [
              "'e'"
            ]
          },
          "metadata": {
            "tags": []
          },
          "execution_count": 19
        }
      ]
    },
    {
      "cell_type": "code",
      "metadata": {
        "id": "Np6GvcA8Bx-W"
      },
      "source": [
        ""
      ],
      "execution_count": null,
      "outputs": []
    },
    {
      "cell_type": "code",
      "metadata": {
        "id": "g1nfYhtSjqFg"
      },
      "source": [
        ""
      ],
      "execution_count": null,
      "outputs": []
    },
    {
      "cell_type": "markdown",
      "metadata": {
        "id": "xR-yJCKhjtlD"
      },
      "source": [
        "# #8 AAA"
      ]
    },
    {
      "cell_type": "code",
      "metadata": {
        "id": "FpFRexfxjwf5",
        "colab": {
          "base_uri": "https://localhost:8080/"
        },
        "outputId": "4a0a2da4-18ef-4ff7-d883-25c360a28c7c"
      },
      "source": [
        "42+0"
      ],
      "execution_count": null,
      "outputs": [
        {
          "output_type": "execute_result",
          "data": {
            "text/plain": [
              "42"
            ]
          },
          "metadata": {
            "tags": []
          },
          "execution_count": 1
        }
      ]
    },
    {
      "cell_type": "code",
      "metadata": {
        "id": "T8uRWOu8kBNu"
      },
      "source": [
        ""
      ],
      "execution_count": null,
      "outputs": []
    }
  ]
}